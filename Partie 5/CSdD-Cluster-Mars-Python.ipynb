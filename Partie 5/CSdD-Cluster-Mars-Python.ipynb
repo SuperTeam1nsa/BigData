{
 "cells": [
  {
   "cell_type": "markdown",
   "metadata": {},
   "source": [
    "<center>\n",
    "<a href=\"https://websites.isae-supaero.fr/certificat/\" ><img src=\"https://websites.isae-supaero.fr/IMG/gif/computer-science.gif\" style=\"float:left; max-width: 120px; display: inline\" alt=\"Toulouse Tech\"/> </a>\n",
    "\n",
    "<a href=\"http://www.insa-toulouse.fr/\" ><img src=\"http://www.math.univ-toulouse.fr/~besse/Wikistat/Images/logo-insa.jpg\" style=\"float:right; max-width: 120px; display: inline\" alt=\"INSA\"/></a> \n",
    "\n",
    "<a href=\"http://wikistat.fr/\" ><img src=\"http://www.math.univ-toulouse.fr/~besse/Wikistat/Images/wikistat.jpg\" style=\"max-width: 250px; display: inline\"  alt=\"Wikistat\"/></a>\n",
    "\n",
    "</center>\n",
    "\n",
    "# [Certificat Science des Données](https://github.com/Certificat-sciences-des-donnees-bigdata) [Module de Sensibilisation](https://github.com/Certificat-sciences-des-donnees-bigdata/Module-sensibilisation)"
   ]
  },
  {
   "cell_type": "markdown",
   "metadata": {},
   "source": [
    "# [Exploration Multidimensionnelle]()\n",
    "## [Classification non supervisée](http://wikistat.fr/pdf/st-m-explo-classif.pdf): Segmentation d'une image multispectrale\n",
    "### Représenter la diversité géologique de la surface de Mars\n",
    "\n",
    "\n",
    "**Résumé** \n",
    "La segmentation d'image est un exemple typique de classification non-supervisée (*clustering*). Après une visualisation des données (spectres) et une exploration par [analyse en composantes principales](http://wikistat.fr/pdf/st-m-explo-acp.pdf) (ACP), différentes stratégies de classification non supervisée sont appliquées, précédées ou non d'une réduction de dimension par ACP: [$k$-*means*, ascendante hiérarchique](http://wikistat.fr/pdf/st-m-explo-classif.pdf), [mélanges gaussiens](http://wikistat.fr/pdf/st-m-datSc4-EMmixt.pdf). Les résultats fournissent une segmentation de l'image assimilable à une carte géologique de la surface de Mars. Cette carte peut être comparée avec celle établie par des experts mais à partir des mêmes données. Il reste difficile de déterminer quelle métode ou stratégie conduit à la une \"meilleure\" segmentation de l'image. "
   ]
  },
  {
   "cell_type": "markdown",
   "metadata": {},
   "source": [
    "## 1 Introduction\n",
    "### 1.1 Les données\n",
    "Les données sont constituées d'une image hyperspectrale de la surface de Mars. L'imagerie visible et en proche infra-rouge est une technique clef de télédétection pour étudier le système planétaire à l'aide de spectromètres embarqués sur des satellites. En mars 20914, l'équipement OMEGA (Mars Express, ESA, Bibring et. al. 2005) a collecté 310 GO d'images brutes. Il a cartographié la surface de Mars avec une résolution variant entre 300 et 3000 m foncton de l'altitude du véhicule spatial. Il a acquis, pour chaque pixel, la réponse spectrale présente entre 0.36 et 5.2 μm et échantillonnées dans 255 canaux. L'objectif est de caractériser la composition matérielle de la surface et en particulier de distinguer différentes classes de silicates, minéraux, oxides, carbonates et parties gelées. \n",
    "\n",
    "Ceci est illustré par l'analyse d'une image 300 × 128 image. A chacun de ces 38 400 pixels, individus, instances ou unités statistiques est associée un vecteur de 255 valeurs spectrales ou variables, caractéristiques ou features.  \n",
    "\n",
    "### 1.2 Objectif\n",
    "Selon les experts, il y a *K = 5* classes minéralogiques à identifier sur la carte. L'objectif est donc d'opérer une classification non supervisée des pixels conduisant à une segmentation de l'image en 5 types ou (fausses) couleurs des pixels. Avant d'opérer la segmentation, une approche exploratoire permet de se famiuliariser avec ce type particulier de données. Bouveyron (2017) propose d'utiliser une approche sur la base de mélanges de modèles gaussiens associés à une sélection de variables pour réduire la dimension (*High Dimensional Gaussian Mixture Model*). Nénamoins, d'autres algorithmes plus rudimentaires peuvent être employés.\n",
    "\n",
    "# <FONT COLOR=\"Red\">Première partie: Exploration</font>"
   ]
  },
  {
   "cell_type": "markdown",
   "metadata": {},
   "source": [
    "## 2 Exploration\n",
    "Ne pas bacler cette phase préliminaire d'exporation. Elle est essentielle pour détecter des  incohérences, valeurs atypiques, données manquantes... tout problème lié notamment à l'acquisition des données. Les données étudiées dans cet exemple sont évidemment *a priori* de bone qualité mais il serait très naïf de penser que c'est toujours le cas. \n",
    "### 2.1 Lecture des données\n",
    "**Attention** Le fichier `Data/mars.csv.zip` chargé à partir du dépôt est une archive. La décompresser avant de lire le fichier."
   ]
  },
  {
   "cell_type": "code",
   "execution_count": null,
   "metadata": {
    "ExecuteTime": {
     "end_time": "2019-09-04T07:37:48.905036Z",
     "start_time": "2019-09-04T07:37:48.071125Z"
    }
   },
   "outputs": [],
   "source": [
    "# Principales librairies\n",
    "import pandas as pd\n",
    "import matplotlib.pyplot as plt\n",
    "import sklearn.cluster as sclust\n",
    "from scipy import cluster\n",
    "from sklearn.decomposition import PCA\n",
    "from scipy.cluster.hierarchy import dendrogram, linkage\n",
    "from sklearn.cluster import KMeans\n",
    "import numpy as np\n",
    "import random\n",
    "import seaborn as sns\n",
    "from sklearn.preprocessing import scale\n",
    "%matplotlib inline"
   ]
  },
  {
   "cell_type": "markdown",
   "metadata": {},
   "source": [
    "***NB*** Si le tutoriel est exécuté en local après chargement du dépôt, le chemin ci-dessous peut être raccourci pour éviter de recharger les données."
   ]
  },
  {
   "cell_type": "code",
   "execution_count": null,
   "metadata": {
    "ExecuteTime": {
     "end_time": "2019-09-04T07:44:06.722870Z",
     "start_time": "2019-09-04T07:44:04.568662Z"
    }
   },
   "outputs": [],
   "source": [
    "# Lecture après chargement du dépôt en local.\n",
    "# mars = pd.read_csv(\"./Data/mars.csv.zip\")\n",
    "# Lecture dans google colab\n",
    "# mars = pd.read_csv(\"https://www.math.univ-toulouse.fr/~besse/Wikistat/Data/mars.csv.zip\")\n",
    "n_pixel = mars.shape[0]\n",
    "dim_spectral = mars.shape[1]\n",
    "# Dimensions de l'image\n",
    "n_pixel_x = 300\n",
    "n_pixel_y = 128\n",
    "dim_spectral"
   ]
  },
  {
   "cell_type": "markdown",
   "metadata": {},
   "source": [
    "Vérifier la bonne lecture du fichier."
   ]
  },
  {
   "cell_type": "code",
   "execution_count": null,
   "metadata": {
    "ExecuteTime": {
     "end_time": "2019-09-04T07:41:44.029801Z",
     "start_time": "2019-09-04T07:41:43.288304Z"
    }
   },
   "outputs": [],
   "source": [
    "summary = mars.describe()\n",
    "summary.transpose"
   ]
  },
  {
   "cell_type": "markdown",
   "metadata": {},
   "source": [
    "### 2.2 Description élémentaire\n",
    "Distribution de la variable associée à une longueur d'onde particulière."
   ]
  },
  {
   "cell_type": "code",
   "execution_count": null,
   "metadata": {
    "ExecuteTime": {
     "end_time": "2019-09-04T07:41:48.166610Z",
     "start_time": "2019-09-04T07:41:47.897308Z"
    }
   },
   "outputs": [],
   "source": [
    "plt.figure(figsize=(10,5))\n",
    "plt.subplot(1,3,1)\n",
    "mars.boxplot('V99')\n",
    "\n",
    "plt.subplot(1,3,3)\n",
    "mars['V99'].hist()\n",
    "plt.xlabel(\"V99\")\n",
    "plt.ylabel(\"Frequency\")\n",
    "plt.show()"
   ]
  },
  {
   "cell_type": "markdown",
   "metadata": {},
   "source": [
    "**Q** Commentaires: symmétrie, dispersion, multi-modalité?\n",
    "\n",
    "Distributions de toutes les variables / longueurs d'onde dans un même graphique."
   ]
  },
  {
   "cell_type": "code",
   "execution_count": null,
   "metadata": {
    "ExecuteTime": {
     "end_time": "2019-09-04T07:41:56.192050Z",
     "start_time": "2019-09-04T07:41:50.641448Z"
    }
   },
   "outputs": [],
   "source": [
    "mars[mars.columns[0:255]].plot(kind = \"box\",figsize=(15, 10))\n",
    "plt.title(\"Diagrammes boîte des variables 1 à 255\")\n",
    "plt.show()"
   ]
  },
  {
   "cell_type": "markdown",
   "metadata": {},
   "source": [
    "**Q** Commentaires: symétrie, étendue des boîtes, valeurs atypiques.\n",
    "\n",
    "Représentation des spectres d'un sous-échantillon de pixels."
   ]
  },
  {
   "cell_type": "code",
   "execution_count": null,
   "metadata": {
    "ExecuteTime": {
     "end_time": "2019-09-03T11:59:28.410910Z",
     "start_time": "2019-09-03T11:59:27.796752Z"
    }
   },
   "outputs": [],
   "source": [
    "plt.figure(figsize=(15,10))\n",
    "echantillon=mars[::1000]\n",
    "x=np.arange(0,255)\n",
    "\n",
    "for i in range(0,np.shape(echantillon)[0]):\n",
    "    plt.plot(x,echantillon.values[i,:])  \n",
    "plt.ylabel('Valeur')\n",
    "plt.xlabel(\"Longueur d'onde\")\n",
    "plt.show()"
   ]
  },
  {
   "cell_type": "markdown",
   "metadata": {},
   "source": [
    "**Q** Commentaires: différentes zones ou intervalles de longueus d'ondes, régularité des spectres, synchronisation des pics, multi-modalité.\n",
    "\n",
    "### 2.2 [Analyse en Composantes Principales](http://wikistat.fr/pdf/st-m-explo-acp.pdf) (ACP)\n",
    "\n",
    "Visualisation de l'ensemble des spectres par projection sur les premiers axes. Compte tenu de la disparité des variances des variables, l'ACP est réduite."
   ]
  },
  {
   "cell_type": "code",
   "execution_count": null,
   "metadata": {
    "ExecuteTime": {
     "end_time": "2019-09-03T11:59:29.597520Z",
     "start_time": "2019-09-03T11:59:28.412313Z"
    }
   },
   "outputs": [],
   "source": [
    "#définition de la commande\n",
    "pcaR = PCA()\n",
    "marsR = pd.DataFrame(scale(mars), columns=mars.columns)\n",
    "#composantes principales\n",
    "C = pcaR.fit(marsR).transform(marsR)"
   ]
  },
  {
   "cell_type": "code",
   "execution_count": null,
   "metadata": {
    "ExecuteTime": {
     "end_time": "2019-09-03T11:59:30.103068Z",
     "start_time": "2019-09-03T11:59:29.599606Z"
    }
   },
   "outputs": [],
   "source": [
    "plt.figure(figsize=(10,5))\n",
    "x=np.arange(pcaR.explained_variance_.size)\n",
    "plt.bar(x,pcaR.explained_variance_)\n",
    "plt.axis((-1,20,0,175))\n",
    "plt.xlabel('Number of components')\n",
    "plt.ylabel('Explained variance')\n",
    "plt.show()"
   ]
  },
  {
   "cell_type": "code",
   "execution_count": null,
   "metadata": {
    "ExecuteTime": {
     "end_time": "2019-09-03T11:59:30.415456Z",
     "start_time": "2019-09-03T11:59:30.105068Z"
    }
   },
   "outputs": [],
   "source": [
    "pd.DataFrame(C[:,0:10]).plot(kind=\"box\", figsize=(15,6) )\n",
    "plt.xlabel('First ten principal components')\n",
    "plt.show()"
   ]
  },
  {
   "cell_type": "markdown",
   "metadata": {},
   "source": [
    "**Q** Que sont ces graphiques? Quel choix de dimension?\n",
    "\n",
    "Représentation des variables / longueurs d'onde"
   ]
  },
  {
   "cell_type": "code",
   "execution_count": null,
   "metadata": {
    "ExecuteTime": {
     "end_time": "2019-09-03T11:59:31.426211Z",
     "start_time": "2019-09-03T11:59:30.417797Z"
    },
    "scrolled": false
   },
   "outputs": [],
   "source": [
    "coord1=pcaR.components_[0]*np.sqrt(pcaR.explained_variance_[0])\n",
    "coord2=pcaR.components_[1]*np.sqrt(pcaR.explained_variance_[1])\n",
    "fig = plt.figure(figsize=(10,10))\n",
    "ax = fig.add_subplot(1, 1, 1)\n",
    "for i, j, nom in zip(coord1,coord2, marsR.columns):\n",
    "    plt.text(i, j, nom)\n",
    "    plt.arrow(0,0,i,j,color='r', width=0.0001)\n",
    "plt.axis((-1,1,-1,1))\n",
    "#Cercle\n",
    "c=plt.Circle((0,0), radius=1, color='b', fill=False )\n",
    "ax.add_patch(c)\n",
    "plt.title('Variables factor map - PCA')\n",
    "plt.show()"
   ]
  },
  {
   "cell_type": "markdown",
   "metadata": {},
   "source": [
    "**Q** Commentaires sur la structure de corrélation, la qualité de représentation.\n",
    "\n",
    "Représentation des individus / pixels de l'image.... C'est un peu long à cause du nombre de points."
   ]
  },
  {
   "cell_type": "code",
   "execution_count": null,
   "metadata": {
    "ExecuteTime": {
     "end_time": "2019-09-03T12:00:33.422922Z",
     "start_time": "2019-09-03T11:59:31.428587Z"
    }
   },
   "outputs": [],
   "source": [
    "pc1=C[:,0]\n",
    "pc2=C[:,1]\n",
    "plt.figure(figsize=(10,10))\n",
    "for i, j in zip(pc1, pc2):\n",
    "    plt.text(i, j, \".\")\n",
    "plt.axis((-40,40,-30,40))\n",
    "plt.title('Individuals factor map - PCA')\n",
    "plt.show()"
   ]
  },
  {
   "cell_type": "markdown",
   "metadata": {},
   "source": [
    "**Q** Commentaires sur la forme, la structure, du nuage.\n",
    "\n",
    "Représentation des 8 premières fonctions propres"
   ]
  },
  {
   "cell_type": "code",
   "execution_count": null,
   "metadata": {
    "ExecuteTime": {
     "end_time": "2019-09-03T12:00:34.295294Z",
     "start_time": "2019-09-03T12:00:33.424907Z"
    }
   },
   "outputs": [],
   "source": [
    "fig = plt.figure(1, figsize=(15, 10))\n",
    "x=np.linspace(0,254,255)\n",
    "for i in range(0, 8):\n",
    "   fig.add_subplot(4,2,i+1)\n",
    "   plt.ylim((-0.5, 0.5))\n",
    "   plt.plot(x,pcaR.components_[i])\n",
    "   plt.xlabel(\"Longueur d'onde\")\n",
    "plt.show()"
   ]
  },
  {
   "cell_type": "markdown",
   "metadata": {},
   "source": [
    "**Q** Commentaire sur la relative régularité de premières fonctions propres. Sur les bandes du spectre que chaque composante met en évidence.\n",
    "\n",
    "Reconstruction des spectres sur la base des 3 premières fonctions propres."
   ]
  },
  {
   "cell_type": "code",
   "execution_count": null,
   "metadata": {
    "ExecuteTime": {
     "end_time": "2019-09-03T12:00:34.685991Z",
     "start_time": "2019-09-03T12:00:34.296871Z"
    }
   },
   "outputs": [],
   "source": [
    "plt.figure(figsize=(15,10))\n",
    "echantillon=mars[::1000]\n",
    "x=np.arange(0,255)\n",
    "for i in range(0,np.shape(echantillon)[0]):\n",
    "    y= C[i,0]*pcaR.components_[0] + C[i,1]*pcaR.components_[1] + C[i,2]*pcaR.components_[2]\n",
    "    plt.plot(x,y)  \n",
    "plt.ylabel('Valeur')\n",
    "plt.xlabel(\"Longueur d'onde\")\n",
    "plt.show()"
   ]
  },
  {
   "cell_type": "markdown",
   "metadata": {},
   "source": [
    "Ceux ci sont très différents des spectres précédents car centrés."
   ]
  },
  {
   "cell_type": "markdown",
   "metadata": {
    "collapsed": true
   },
   "source": [
    "## 3 Classifications non supervisées et segmentation de l'image\n",
    "\n",
    "### 3.1 Librairies et fonctions supplémentaires"
   ]
  },
  {
   "cell_type": "code",
   "execution_count": null,
   "metadata": {
    "ExecuteTime": {
     "end_time": "2019-09-03T12:00:34.690680Z",
     "start_time": "2019-09-03T12:00:34.687533Z"
    }
   },
   "outputs": [],
   "source": [
    "from scipy.cluster.hierarchy import dendrogram, linkage, fcluster\n",
    "from sklearn.cluster import KMeans\n",
    "from matplotlib import colors"
   ]
  },
  {
   "cell_type": "markdown",
   "metadata": {},
   "source": [
    "La fonction `illustration` représente l'image (chaque pixel) en fausse couleur, celle identifiée par la classe du pixel."
   ]
  },
  {
   "cell_type": "code",
   "execution_count": null,
   "metadata": {
    "ExecuteTime": {
     "end_time": "2019-09-03T12:00:34.698926Z",
     "start_time": "2019-09-03T12:00:34.692965Z"
    }
   },
   "outputs": [],
   "source": [
    "def illustration(classe):\n",
    "    #classe : vecteur ligne qui contient les numeros des classes\n",
    "    mars_scale_v1 = classe\n",
    "    mars_image = mars_scale_v1.reshape((n_pixel_x, n_pixel_y))\n",
    "    # make a color map of fixed colors\n",
    "    cmap = colors.ListedColormap(['black','red','green','blue','yellow'])\n",
    "    fig = plt.figure(figsize=(10,10))\n",
    "    ax = fig.add_subplot(1,1,1)\n",
    "    ax.imshow(mars_image, interpolation='nearest', cmap=cmap, aspect='auto')\n",
    "    plt.show()"
   ]
  },
  {
   "cell_type": "markdown",
   "metadata": {},
   "source": [
    "La fonction `illustrationCouleur` change les numéros de classe pour qu'elles correspondent au mieux entre deux classifications. "
   ]
  },
  {
   "cell_type": "code",
   "execution_count": null,
   "metadata": {
    "ExecuteTime": {
     "end_time": "2019-09-03T12:00:34.714725Z",
     "start_time": "2019-09-03T12:00:34.701423Z"
    }
   },
   "outputs": [],
   "source": [
    "def illustrationCouleur(classe1,classe2):\n",
    "    table = pd.crosstab(classe1,classe2, rownames=['classes '], colnames=['classes données brutes'])\n",
    "    a=[0,0,0,0,0] \n",
    "    b=[0,0,0,0,0]\n",
    "    for j in range (0,5):\n",
    "        for i in range (0,5):\n",
    "            if (a[j]<table[i][j]):\n",
    "                a[j]=table[i][j]\n",
    "                b[j]=i\n",
    "    print (\"\")\n",
    "    print (\"max colonne\",a)\n",
    "    print (\"j=\",b)\n",
    "    print (\"\")\n",
    "    classe=np.copy(classe1)\n",
    "    for i in range (0,np.shape(classe1)[0]):\n",
    "        for j in range(0,np.shape(table)[0]):\n",
    "            if (classe1[i]==j):\n",
    "                classe[i]=b[j]\n",
    "    return classe"
   ]
  },
  {
   "cell_type": "markdown",
   "metadata": {},
   "source": [
    "La fonction ` crossTable` permet de créer une table croisée comparant deux classifications. Lignes et colonnes sont réordonnées pour obtenir les cellules d'effectif maximum sur la diagonale."
   ]
  },
  {
   "cell_type": "code",
   "execution_count": null,
   "metadata": {
    "ExecuteTime": {
     "end_time": "2019-09-03T12:00:34.725701Z",
     "start_time": "2019-09-03T12:00:34.716598Z"
    }
   },
   "outputs": [],
   "source": [
    "def crossTable(classe1, classe2):\n",
    "    table = pd.crosstab(classe1,classe2, rownames=['classes ACP'], colnames=['classes données brutes'])\n",
    "    a=np.zeros(np.shape(table)[0])\n",
    "    b=np.zeros(np.shape(table)[0])\n",
    "    for j in range (0,np.shape(table)[0]):\n",
    "        for i in range (0,np.shape(table)[0]):\n",
    "            if (a[j]<table[i][j]):\n",
    "                a[j]=table[i][j]\n",
    "                b[j]=i                       \n",
    "                                             \n",
    "    print (\"\")\n",
    "    print (\"max colonne\",a)\n",
    "    print (\"j=\",b)\n",
    "    print (\"\")\n",
    "    tablebis=np.copy(table)\n",
    "    for i in range (0,np.shape(table)[0]):\n",
    "        tablebis[i][:]=table[b[i]][:]        \n",
    "    return tablebis"
   ]
  },
  {
   "cell_type": "markdown",
   "metadata": {},
   "source": [
    "La fonction `courbeWave` représente graphiquement les pixels (différentes courbes) en fonction des longueurs d'onde (axe des abscisses); la couleur de chaque courbe est déterminée par la classe."
   ]
  },
  {
   "cell_type": "markdown",
   "metadata": {},
   "source": [
    "La fonction `difference` compare deux images et affiche en blanc les pixels n'appartenant pas à la même classe."
   ]
  },
  {
   "cell_type": "code",
   "execution_count": null,
   "metadata": {
    "ExecuteTime": {
     "end_time": "2019-09-03T12:00:34.736698Z",
     "start_time": "2019-09-03T12:00:34.727733Z"
    }
   },
   "outputs": [],
   "source": [
    "def difference(classe1,classe2):\n",
    "    c=np.zeros(np.shape(classe1)[0])\n",
    "    compteur = 0\n",
    "    for i in range (0,np.shape(classe1)[0]):\n",
    "        if not(classe1[i]==classe2[i]):\n",
    "            c[i]=6\n",
    "            compteur=compteur+1\n",
    "        else:\n",
    "            c[i]=classe1[i]\n",
    "    print(\"le ratio est de :\")   \n",
    "    print( compteur/np.shape(classe1)[0])\n",
    "    print(\"nb pixel changé : \",compteur)\n",
    "    mars_scale_v1 = c\n",
    "    mars_image = mars_scale_v1.reshape((n_pixel_x, n_pixel_y))\n",
    "\n",
    "    # make a color map of fixed colors\n",
    "    cmap = colors.ListedColormap(['black', 'red','green','blue','yellow','white'])\n",
    "\n",
    "    fig = plt.figure(figsize=(10,10))\n",
    "    ax = fig.add_subplot(1,1,1)\n",
    "    ax.imshow(mars_image, interpolation='nearest', cmap=cmap, aspect='auto')\n",
    "    plt.show()"
   ]
  },
  {
   "cell_type": "markdown",
   "metadata": {},
   "source": [
    "### 3.2 Classification par réallocation dynamique: $k$-*means*\n",
    "\n",
    "**Q** Quelles sont les principales catactéristiques de l'algorithme $k$-*means* vis à vis de la taille des données traitées, du choix du nombre de classes?\n",
    "\n",
    "Deux stratégies sont comparées: classification des pixels caractérisés par les trois premières composantes de l'ACP puis par le spectre complet.\n",
    "\n",
    "#### Sur les composantes de l'ACP\n",
    "**Attention** La réduction de dimension opérée par l'ACP induit des propriétés qui peuvent s'avérer intéressantes ou pas. Dans le cas présent, se restreindre aux trois premières composantes agit comme un débruitage ou filtre passe-bas car les fonctions propres associées aux petites valeurs propres sont particulièrement bruitées. . Ce peut être utile dans le cas présent mais peut s'avérer nuisible dans d'autres circonstances; en particulier lorsque des séparation de classes ou groupes sont à rechercher dans des directions associées à des petites variances. Le chois de la distance entre les objets, ici des courbes, est de toute façon fondamentale; \n",
    "\n",
    "Les graphes liés à l'ACP de décroissance des valeurs propres suggèrent de conserver trois composantes; il serait possible d'en conserver plus. \n",
    "\n",
    "Exécution de l'algorithme en fixant le nombre de classes et représentation sommaire des effectifs. "
   ]
  },
  {
   "cell_type": "code",
   "execution_count": null,
   "metadata": {
    "ExecuteTime": {
     "end_time": "2019-09-03T12:00:36.984719Z",
     "start_time": "2019-09-03T12:00:34.739670Z"
    }
   },
   "outputs": [],
   "source": [
    "marsCP = C[:,0:3] # trois premières composantes\n",
    "kmeans=KMeans(n_clusters=5, random_state=0,n_jobs=-1).fit(marsCP)\n",
    "kclassesACP = kmeans.labels_\n",
    "# effectifs des classes\n",
    "pd.DataFrame(kclassesACP).hist()"
   ]
  },
  {
   "cell_type": "markdown",
   "metadata": {},
   "source": [
    "#### Sur les données initiales ou toutes les composantes\n",
    "**Attention** il est très généralement recommander de réduire les variables avant de lancer un algorithme de classification non supervisée."
   ]
  },
  {
   "cell_type": "code",
   "execution_count": null,
   "metadata": {
    "ExecuteTime": {
     "end_time": "2019-09-03T12:00:43.169789Z",
     "start_time": "2019-09-03T12:00:36.986913Z"
    }
   },
   "outputs": [],
   "source": [
    "kmeans=KMeans(n_clusters=5, random_state=0,n_jobs=-1).fit(marsR)\n",
    "kclasses = kmeans.labels_\n",
    "pd.DataFrame(kclasses).hist()"
   ]
  },
  {
   "cell_type": "markdown",
   "metadata": {},
   "source": [
    "La comparaison des deux classifications n'est pas immédiate car les classes n'ont pas le même numéro. Nénamoins la fonction `crossTable` y rémédie d'une certaine façon."
   ]
  },
  {
   "cell_type": "code",
   "execution_count": null,
   "metadata": {
    "ExecuteTime": {
     "end_time": "2019-09-03T12:00:43.207185Z",
     "start_time": "2019-09-03T12:00:43.171664Z"
    }
   },
   "outputs": [],
   "source": [
    "crossTable(kclassesACP,kclasses)"
   ]
  },
  {
   "cell_type": "markdown",
   "metadata": {},
   "source": [
    "Ainsi que la fonction `illustrationCouleur` qui renumérote les classes."
   ]
  },
  {
   "cell_type": "code",
   "execution_count": null,
   "metadata": {
    "ExecuteTime": {
     "end_time": "2019-09-03T12:00:43.816183Z",
     "start_time": "2019-09-03T12:00:43.210989Z"
    }
   },
   "outputs": [],
   "source": [
    "kclassesACPcouleur=illustrationCouleur(kclassesACP,kclasses)\n",
    "illustration(kclassesACPcouleur)"
   ]
  },
  {
   "cell_type": "code",
   "execution_count": null,
   "metadata": {
    "ExecuteTime": {
     "end_time": "2019-09-03T12:01:45.204065Z",
     "start_time": "2019-09-03T12:00:43.819647Z"
    }
   },
   "outputs": [],
   "source": [
    "pc1=C[:,0]\n",
    "pc2=C[:,1]\n",
    "coul=['b','r','g','k','y']\n",
    "plt.figure(figsize=(10,10))\n",
    "for i, j, indcoul in zip(pc1, pc2, kclasses):\n",
    "    plt.text(i,j,\".\",color=coul[indcoul])\n",
    "plt.axis((-40,40,-30,40))\n",
    "plt.title('Individuals by class factor map - PCA')\n",
    "plt.show()"
   ]
  },
  {
   "cell_type": "code",
   "execution_count": null,
   "metadata": {
    "ExecuteTime": {
     "end_time": "2019-09-03T12:01:45.518367Z",
     "start_time": "2019-09-03T12:01:45.207554Z"
    }
   },
   "outputs": [],
   "source": [
    "illustration(kclasses)"
   ]
  },
  {
   "cell_type": "markdown",
   "metadata": {},
   "source": [
    "Il est finalement plus facile de préciser la comparaison en affichant en blanc les pixels ayant changer de classe."
   ]
  },
  {
   "cell_type": "code",
   "execution_count": null,
   "metadata": {
    "ExecuteTime": {
     "end_time": "2019-09-03T12:01:45.884146Z",
     "start_time": "2019-09-03T12:01:45.525031Z"
    }
   },
   "outputs": [],
   "source": [
    "difference(kclasses,kclassesACPcouleur)"
   ]
  },
  {
   "cell_type": "markdown",
   "metadata": {},
   "source": [
    "**Q** Que dire des segmentations obtenues avant ou après une ACP? Serait-il possible de d'opérer un choix entre les deux?\n",
    "\n",
    "Un expert géologue pourrait identifier les classes à l'aide des représentations des spectres associés aux classes ou plutôt aux barycentres de ces classes."
   ]
  },
  {
   "cell_type": "code",
   "execution_count": null,
   "metadata": {
    "ExecuteTime": {
     "end_time": "2019-09-03T12:01:46.187297Z",
     "start_time": "2019-09-03T12:01:45.887626Z"
    }
   },
   "outputs": [],
   "source": [
    "plt.figure(figsize=(15,10))\n",
    "x=np.arange(0,255)\n",
    "couleur=['black', 'red','green','blue','yellow']\n",
    "for i in range(0,5):\n",
    "    coul=couleur[i]\n",
    "    y= np.mean(mars[kclasses==i]) # calcul des barycentres des classes.\n",
    "    plt.plot(x,y,coul) \n",
    "plt.ylabel('Valeur')\n",
    "plt.xlabel(\"Longueur d'onde\")\n",
    "plt.show()"
   ]
  },
  {
   "cell_type": "markdown",
   "metadata": {},
   "source": [
    "# <FONT COLOR=\"Red\">Compléments:</font> Autres méthodes de [classification non supervisée](http://wikistat.fr/pdf/st-m-explo-classif.pdf)\n",
    "\n",
    "### 3.3 Classification ascendante hiérarchique (CAH) \n",
    "L'algorithme $k$-*means* conduit à des résultats satisfaisants. Ceux-ci sont comparés avec ceux issus d'autres approches. L'algorithme DBSCAN est d'exécution très longue et comme les résultats ne sont pas probants, il a été anondonné. \n",
    "\n",
    "#### CAH d'un sous-échantillon\n",
    "**Q** Comment se comporte la CAH vis-à-vis de la taille des données, du nombre de classes?\n",
    "\n",
    "La classification peut être lancée sur tous les pixels mais, dans un premier temps, l'algorihtme est exécuté sur un échantillon de taille raisonnable pour faciliter les représentations."
   ]
  },
  {
   "cell_type": "code",
   "execution_count": null,
   "metadata": {},
   "outputs": [],
   "source": [
    "marsRech = marsR[::100] # Tirage d'un sous-échantillon des pixels\n",
    "Z = linkage(marsRech, 'ward', metric='euclidean') # choix de la distance\n",
    "height = Z[:,2]  # Décroissance des sauts\n",
    "x=np.arange(16)+1\n",
    "height = sorted(height,reverse=True)\n",
    "plt.scatter(x,height[0:16])  #height[0:16]/sum(height[0:16])*100\n",
    "plt.xlabel('Index')\n",
    "plt.ylabel('Height')\n",
    "plt.title(\"Choix du nombre de classes\")\n",
    "plt.show()"
   ]
  },
  {
   "cell_type": "markdown",
   "metadata": {},
   "source": [
    "**Q** Quel est ce graphique? Quels choix possibles du nombre de classes?\n",
    "\n",
    "**Remarque**: l'avis à suivre des géologues est qu'il faut de toute façon chercher 5 classes.\n",
    "\n",
    "Affichage du dendrogramme."
   ]
  },
  {
   "cell_type": "code",
   "execution_count": null,
   "metadata": {},
   "outputs": [],
   "source": [
    "plt.figure(figsize=(15, 8))\n",
    "plt.title('Hierarchical Clustering Dendrogram')\n",
    "plt.xlabel('Individus')\n",
    "plt.ylabel('Distance')\n",
    "dendrogram(Z,leaf_font_size=8.,labels=marsRech.index)\n",
    "plt.show()"
   ]
  },
  {
   "cell_type": "markdown",
   "metadata": {},
   "source": [
    "Couper l'arbre à `t=72` conduit sélectionner 5 classes.\n",
    "\n",
    "**Q** Que dire de l'utilisaton de ce paramètre `t` permettant de couper le dendrogramme et donc de sélectionner le nombe de classes?"
   ]
  },
  {
   "cell_type": "code",
   "execution_count": null,
   "metadata": {},
   "outputs": [],
   "source": [
    "classesCAH = fcluster(Z,t=72,criterion='distance')"
   ]
  },
  {
   "cell_type": "markdown",
   "metadata": {},
   "source": [
    "Effectifs des classes."
   ]
  },
  {
   "cell_type": "code",
   "execution_count": null,
   "metadata": {},
   "outputs": [],
   "source": [
    "pd.DataFrame(classesCAH).hist()"
   ]
  },
  {
   "cell_type": "markdown",
   "metadata": {},
   "source": [
    "Représentation des classes dans le plan de l'ACP"
   ]
  },
  {
   "cell_type": "code",
   "execution_count": null,
   "metadata": {},
   "outputs": [],
   "source": [
    "echantillon1=C[::100,0]\n",
    "echantillon2=C[::100,1]\n",
    "coul=['b','r','g','k','y']\n",
    "plt.figure(figsize=(10,10))\n",
    "for i, j, nom, indcoul in zip(echantillon1, echantillon2, np.linspace(1, np.shape(C[::100,:])[0], num=np.shape(C[::100,:])[0]), classesCAH):\n",
    "    plt.scatter(i,j,c=coul[indcoul-1])\n",
    "#plt.axis((-2,2,-1,1))  \n",
    "plt.show()"
   ]
  },
  {
   "cell_type": "markdown",
   "metadata": {},
   "source": [
    "#### CAH de l'ensemble des pixels\n",
    "\n",
    "Le même algorithme de CAH est exécuté sur l'ensemble des pixels. \n",
    "\n",
    "**Attention** Le temps d'exécution augmente très sensiblement."
   ]
  },
  {
   "cell_type": "code",
   "execution_count": null,
   "metadata": {},
   "outputs": [],
   "source": [
    "Z2 = linkage(marsR, 'ward', metric='euclidean')"
   ]
  },
  {
   "cell_type": "markdown",
   "metadata": {},
   "source": [
    "**Q** Quelles autres options de la CAH sont possibles?\n",
    "\n",
    "Nombre de classes puis dendrogramme."
   ]
  },
  {
   "cell_type": "code",
   "execution_count": null,
   "metadata": {},
   "outputs": [],
   "source": [
    "height = Z2[:,2]\n",
    "x=np.arange(16)+1\n",
    "height = sorted(height,reverse=True)\n",
    "plt.scatter(x,height[0:16])\n",
    "plt.xlabel('Index')\n",
    "plt.ylabel('Height')\n",
    "plt.title(\"choix du nombre de classes\")\n",
    "plt.show()"
   ]
  },
  {
   "cell_type": "code",
   "execution_count": null,
   "metadata": {},
   "outputs": [],
   "source": [
    "plt.figure(figsize=(15, 8))\n",
    "plt.title('Hierarchical Clustering Dendrogram')\n",
    "plt.xlabel('Individus')\n",
    "plt.ylabel('Distance')\n",
    "dendrogram(Z2,leaf_font_size=8.,labels=mars.index)\n",
    "plt.show()"
   ]
  },
  {
   "cell_type": "code",
   "execution_count": null,
   "metadata": {},
   "outputs": [],
   "source": [
    "classesCAH = fcluster(Z2,t=750,criterion='distance')\n",
    "classesCAH=classesCAH-1\n",
    "pd.DataFrame(classesCAH).hist()"
   ]
  },
  {
   "cell_type": "markdown",
   "metadata": {},
   "source": [
    "Comparaison avec $k$-*means*."
   ]
  },
  {
   "cell_type": "code",
   "execution_count": null,
   "metadata": {},
   "outputs": [],
   "source": [
    "crossTable(classesCAH,kclasses)"
   ]
  },
  {
   "cell_type": "markdown",
   "metadata": {},
   "source": [
    "Les deux segmentations issus de $k$-*means* et la CAH sont trop différentes pour des comparaisons directes. Les couleurs ne peuvents être correctement réassociées. "
   ]
  },
  {
   "cell_type": "code",
   "execution_count": null,
   "metadata": {},
   "outputs": [],
   "source": [
    "illustration(classesCAH)"
   ]
  },
  {
   "cell_type": "markdown",
   "metadata": {},
   "source": [
    "Barycentres des classes."
   ]
  },
  {
   "cell_type": "code",
   "execution_count": null,
   "metadata": {},
   "outputs": [],
   "source": [
    "plt.figure(figsize=(15,10))\n",
    "x=np.arange(0,255)\n",
    "couleur=['black', 'red','green','blue','yellow']\n",
    "for i in range(0,5):\n",
    "    coul=couleur[i]\n",
    "    y= np.mean(mars[classesCAH==i]) # calcul des barycentres des classes.\n",
    "    plt.plot(x,y,coul) \n",
    "plt.ylabel('Valeur')\n",
    "plt.xlabel(\"Longueur d'onde\")\n",
    "plt.show()"
   ]
  },
  {
   "cell_type": "markdown",
   "metadata": {},
   "source": [
    "### 3.4 Modèle de mélanges gaussiens\n",
    "L'algorithme cherche une distribution de gaussiennes multidimensionnelles qui s'adapte le mieux à la forme des données. \n",
    "\n",
    "Comme pour la CAH, l'exécution de l'algorithme, ici EM (expectation minimisation) de maximisation de la log vraisemblance, est un peu longue..."
   ]
  },
  {
   "cell_type": "code",
   "execution_count": null,
   "metadata": {},
   "outputs": [],
   "source": [
    "from sklearn.mixture import GaussianMixture\n",
    "# méthode GMM sur les données brutes\n",
    "gmm = GaussianMixture(n_components=5).fit(marsR)"
   ]
  },
  {
   "cell_type": "code",
   "execution_count": null,
   "metadata": {},
   "outputs": [],
   "source": [
    "# identification des classes\n",
    "classesGMM = gmm.predict(marsR)\n",
    "# Effectifs des classes\n",
    "pd.DataFrame(classesGMM).hist()"
   ]
  },
  {
   "cell_type": "code",
   "execution_count": null,
   "metadata": {},
   "outputs": [],
   "source": [
    "crossTable(classesGMM,kclasses)"
   ]
  },
  {
   "cell_type": "code",
   "execution_count": null,
   "metadata": {},
   "outputs": [],
   "source": [
    "classesGMMcouleur=illustrationCouleur(classesGMM,kclasses)\n",
    "illustration(classesGMMcouleur)"
   ]
  },
  {
   "cell_type": "code",
   "execution_count": null,
   "metadata": {},
   "outputs": [],
   "source": [
    "difference(kclasses,classesGMMcouleur)"
   ]
  },
  {
   "cell_type": "markdown",
   "metadata": {},
   "source": [
    "Barycentres des classes."
   ]
  },
  {
   "cell_type": "code",
   "execution_count": null,
   "metadata": {},
   "outputs": [],
   "source": [
    "plt.figure(figsize=(15,10))\n",
    "x=np.arange(0,255)\n",
    "couleur=['black', 'red','green','blue','yellow']\n",
    "for i in range(0,5):\n",
    "    coul=couleur[i]\n",
    "    y= np.mean(mars[classesGMMcouleur==i]) # calcul des barycentres des classes.\n",
    "    plt.plot(x,y,coul) \n",
    "plt.ylabel('Valeur')\n",
    "plt.xlabel(\"Longueur d'onde\")\n",
    "plt.show()"
   ]
  },
  {
   "cell_type": "markdown",
   "metadata": {},
   "source": [
    "**Q** Que dire des comparaison entre les résultats ou segmentations fournis par ces différents algorithmes? Un meilleur choix est-il possible?\n",
    "\n",
    "D'autres algorithmes pourraient être testés: DBSCAN, *affinity propagation*... consulter les documentations des librairies disponibles dont celle de [Scikit-Learn](http://scikit-learn.org/stable/modules/classes.html#module-sklearn.cluster). "
   ]
  },
  {
   "cell_type": "markdown",
   "metadata": {},
   "source": [
    "## Références\n",
    "**Bibring J.P. et al.** (2005). Mars Surface Diversity as Revealed by the OMEGA/Mars Express Observations, *Science*, Vol. 307, Issue 5715, pp. 1576-1581.\n",
    "\n",
    "**Bouveyron C.** (2017). Model-based Clustering of High-Dimensional Data in Astrophysics, *Statistics for Astrophysics: Clustering and Classification*, D. Fraix-Burnet and S. Girard (eds,)EAS Publications Series, 77 (2016) 91–119."
   ]
  }
 ],
 "metadata": {
  "kernelspec": {
   "display_name": "Python 3",
   "language": "python",
   "name": "python3"
  },
  "language_info": {
   "codemirror_mode": {
    "name": "ipython",
    "version": 3
   },
   "file_extension": ".py",
   "mimetype": "text/x-python",
   "name": "python",
   "nbconvert_exporter": "python",
   "pygments_lexer": "ipython3",
   "version": "3.7.3"
  },
  "latex_envs": {
   "LaTeX_envs_menu_present": true,
   "autoclose": false,
   "autocomplete": true,
   "bibliofile": "biblio.bib",
   "cite_by": "apalike",
   "current_citInitial": 1,
   "eqLabelWithNumbers": true,
   "eqNumInitial": 1,
   "hotkeys": {
    "equation": "Ctrl-E",
    "itemize": "Ctrl-I"
   },
   "labels_anchors": false,
   "latex_user_defs": false,
   "report_style_numbering": false,
   "user_envs_cfg": false
  },
  "toc": {
   "base_numbering": 1,
   "nav_menu": {},
   "number_sections": true,
   "sideBar": true,
   "skip_h1_title": true,
   "title_cell": "Table of Contents",
   "title_sidebar": "Contents",
   "toc_cell": false,
   "toc_position": {},
   "toc_section_display": true,
   "toc_window_display": false
  }
 },
 "nbformat": 4,
 "nbformat_minor": 2
}
