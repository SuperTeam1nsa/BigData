{
 "cells": [
  {
   "cell_type": "markdown",
   "metadata": {},
   "source": [
    "<center>\n",
    "<a href=\"http://www.insa-toulouse.fr/\" ><img src=\"http://www.math.univ-toulouse.fr/~besse/Wikistat/Images/logo-insa.jpg\" style=\"float:left; max-width: 120px; display: inline\" alt=\"INSA\"/></a> \n",
    "\n",
    "<a href=\"http://wikistat.fr/\" ><img src=\"http://www.math.univ-toulouse.fr/~besse/Wikistat/Images/wikistat.jpg\" style=\"float:right; max-width: 250px; display: inline\"  alt=\"Wikistat\"/></a>\n",
    "\n",
    "</center>"
   ]
  },
  {
   "cell_type": "markdown",
   "metadata": {},
   "source": [
    "# [Scénarios d'Initiation à la Statistique](https://github.com/wikistat/InitStat)"
   ]
  },
  {
   "cell_type": "markdown",
   "metadata": {},
   "source": [
    "# Statistiques élémentaires et concentration d'ozone  avec <a href=\"https://cran.r-project.org/\"><img src=\"https://cran.r-project.org/Rlogo.svg\" style=\"max-width: 40px; display: inline\" alt=\"R\"/></a>"
   ]
  },
  {
   "cell_type": "markdown",
   "metadata": {},
   "source": [
    "**Résumé**: \n",
    "Initiation à la pratique des techniques élémentaires de statistique par l'étude d'un jeu de données à l'aide du logiciel R. L'objectif est de prévoir la concentration en ozone le lendemain à partir de celle du jour et de mesures météorologiques : [description  élémentaire](http://wikistat.fr/pdf/st-l-descript-estim-intro.pdf), [estimation](http://wikistat.fr/pdf/st-l-inf-estim.pdf), [tests](http://wikistat.fr/pdf/st-l-inf-tests.pdf), [régression linéaire](http://wikistat.fr/pdf/st-l-inf-regsim.pdf), [analyse de variance](http://wikistat.fr/pdf/st-l-inf-tests.pdf) (ANOVA), [analyse en composantes principales](http://wikistat.fr/pdf/st-l-des-multi.pdf), [régression multiple](http://wikistat.fr/pdf/st-l-inf-intRegmult.pdf). Si nécessaire, un [tutoriel](http://wikistat.fr/pdf/st-tutor-start-R-intro.pdf) de démarrage avec R est disponible.\n",
    "\n",
    "## 1 Introduction\n",
    "La pollution de l'air constitue actuellement une des préoccupations majeures de santé publique. De nombreuses études épidémiologiques ont permis de mettre en évidence l'influence sur la santé de certains composés chimiques comme le dioxyde souffre (SO2), le dioxyde d'azote (NO2), l'ozone (O3) ou des particules en suspension. Des associations de surveillance de la qualité de l'air (Air Breizh en Bretagne depuis 1994) existent sur tout le territoire métropolitain et mesurent la concentration des polluants. Elles enregistrent également les conditions météorologiques comme la température, la nébulosité, le vent, les chutes de pluie en relation avec les services de Météo France... L'une des missions de ces associations est de construire des modèles de prévision de la concentration en ozone du lendemain à partir des données disponibles du jour : observations et prévisions de Météo France. Plus précisément, il s'agit d'anticiper l'occurrence ou non d'un dépassement légal du pic d'ozone (180 $\\mu$gr/m3)  le lendemain afin d'aider les services préfectoraux à prendre les décisions nécessaires de prévention : confinement des personnes à risque, limitation du trafic routier.\n",
    "Plus modestement, l'objectif de cette étude est de mettre en évidence l'influence de certains paramètres sur la concentration d'ozone (en  $\\mu$gr/m3) et différentes variables observées ou leur prévision. \n",
    "Les 112 données étudiées ont été recueillies à Rennes durant l'été 2001. Elles sont disponibles sur le site du laboratoire de mathématiques appliquées de l'Agrocampus Ouest. \n",
    "\n",
    "Les 13 variables observées sont : \n",
    "\n",
    "- \tMaxO3\t:\t\tMaximum de concentration d'ozone observé sur la journée en  $\\mu$gr/m3\n",
    "-\tT9, T12, T15 :\tTempérature observée à 9, 12 et 15h \n",
    "-  \tNe9, Ne12, Ne15\t: Nébulosité observée à 9, 12 et 15h\n",
    "-  \tVx9, Vx12, Vx15\t: Composante E-O du vent  à 9, 12 et 15h\n",
    "-  \tMaxO3v\t:\tTeneur maximum en ozone observée la veille\n",
    "-  \tvent\t:\t\torientation du vent à 12h \n",
    "-  \tpluie\t\t:\toccurrence ou non de précipitations"
   ]
  },
  {
   "cell_type": "markdown",
   "metadata": {},
   "source": [
    "## 2 Exploration statistique élémentaire\n",
    "### 2.1 Lire les données\n",
    "Les données sont disponibles dans un [répertoire](http://wikistat.fr/data) sous la forme d'un fichier [`ozone.csv`](http://wikistat.fr/data/ozone.csv) construit à partir  de Excel  en choisissant \";\" comme séparateur et \",\" comme marque décimale. Télécharger ce fichier (ou le lire directement) dans le répertoire courant de R avant d'exécuter les commandes :"
   ]
  },
  {
   "cell_type": "code",
   "execution_count": 1,
   "metadata": {},
   "outputs": [
    {
     "data": {
      "text/plain": [
       "      obs            maxO3              T9             T12       \n",
       " Min.   :601.0   Min.   : 42.00   Min.   :11.30   Min.   :14.00  \n",
       " 1st Qu.:701.8   1st Qu.: 70.75   1st Qu.:16.20   1st Qu.:18.60  \n",
       " Median :729.5   Median : 81.50   Median :17.80   Median :20.55  \n",
       " Mean   :763.2   Mean   : 90.30   Mean   :18.36   Mean   :21.53  \n",
       " 3rd Qu.:829.2   3rd Qu.:106.00   3rd Qu.:19.93   3rd Qu.:23.55  \n",
       " Max.   :930.0   Max.   :166.00   Max.   :27.00   Max.   :33.50  \n",
       "      T15             Ne9             Ne12            Ne15     \n",
       " Min.   :14.90   Min.   :0.000   Min.   :0.000   Min.   :0.00  \n",
       " 1st Qu.:19.27   1st Qu.:3.000   1st Qu.:4.000   1st Qu.:3.00  \n",
       " Median :22.05   Median :6.000   Median :5.000   Median :5.00  \n",
       " Mean   :22.63   Mean   :4.929   Mean   :5.018   Mean   :4.83  \n",
       " 3rd Qu.:25.40   3rd Qu.:7.000   3rd Qu.:7.000   3rd Qu.:7.00  \n",
       " Max.   :35.50   Max.   :8.000   Max.   :8.000   Max.   :8.00  \n",
       "      Vx9               Vx12             Vx15            maxO3v      \n",
       " Min.   :-7.8785   Min.   :-7.878   Min.   :-9.000   Min.   : 42.00  \n",
       " 1st Qu.:-3.2765   1st Qu.:-3.565   1st Qu.:-3.939   1st Qu.: 71.00  \n",
       " Median :-0.8660   Median :-1.879   Median :-1.550   Median : 82.50  \n",
       " Mean   :-1.2143   Mean   :-1.611   Mean   :-1.691   Mean   : 90.57  \n",
       " 3rd Qu.: 0.6946   3rd Qu.: 0.000   3rd Qu.: 0.000   3rd Qu.:106.00  \n",
       " Max.   : 5.1962   Max.   : 6.578   Max.   : 5.000   Max.   :166.00  \n",
       "    vent      pluie   \n",
       " Est  :10   Pluie:43  \n",
       " Nord :31   Sec  :69  \n",
       " Ouest:50             \n",
       " Sud  :21             \n",
       "                      \n",
       "                      "
      ]
     },
     "metadata": {},
     "output_type": "display_data"
    }
   ],
   "source": [
    "# Data frame à partir d'un fichier csv\n",
    "path=\"http://www.math.univ-toulouse.fr/~besse/Wikistat/data/\"\n",
    "#path=\"\"\n",
    "ozone=read.table(paste(path,\"ozone.csv\",sep=\"\"),sep=\";\",dec=\",\",header=T)\n",
    "# vérification\n",
    "summary(ozone)\n",
    "# Supprimer la variable inutile \"obs\" \n",
    "ozone=ozone[,-1]"
   ]
  },
  {
   "cell_type": "markdown",
   "metadata": {},
   "source": [
    "### 2.2 [Description unidimensionnelle](http://wikistat.fr/pdf/st-l-des-uni.pdf)\n",
    "Décrire chacune des variables en précisant ses caractéristiques :\n",
    "#### 2.2.1 Variables quantitatives\n",
    "Décrire chaque variable [(moyenne, écart-type, quantiles, diagramme boîte, histogramme)](http://wikistat.fr/pdf/st-l-des-uni.pdf) afin d'identifier les problèmes potentiels : valeurs atypiques, hétérogénéité des variances, distributions dissymétriques..."
   ]
  },
  {
   "cell_type": "code",
   "execution_count": 2,
   "metadata": {},
   "outputs": [
    {
     "data": {
      "text/plain": [
       "     maxO3              T9             T12             T15       \n",
       " Min.   : 42.00   Min.   :11.30   Min.   :14.00   Min.   :14.90  \n",
       " 1st Qu.: 70.75   1st Qu.:16.20   1st Qu.:18.60   1st Qu.:19.27  \n",
       " Median : 81.50   Median :17.80   Median :20.55   Median :22.05  \n",
       " Mean   : 90.30   Mean   :18.36   Mean   :21.53   Mean   :22.63  \n",
       " 3rd Qu.:106.00   3rd Qu.:19.93   3rd Qu.:23.55   3rd Qu.:25.40  \n",
       " Max.   :166.00   Max.   :27.00   Max.   :33.50   Max.   :35.50  \n",
       "      Ne9             Ne12            Ne15           Vx9         \n",
       " Min.   :0.000   Min.   :0.000   Min.   :0.00   Min.   :-7.8785  \n",
       " 1st Qu.:3.000   1st Qu.:4.000   1st Qu.:3.00   1st Qu.:-3.2765  \n",
       " Median :6.000   Median :5.000   Median :5.00   Median :-0.8660  \n",
       " Mean   :4.929   Mean   :5.018   Mean   :4.83   Mean   :-1.2143  \n",
       " 3rd Qu.:7.000   3rd Qu.:7.000   3rd Qu.:7.00   3rd Qu.: 0.6946  \n",
       " Max.   :8.000   Max.   :8.000   Max.   :8.00   Max.   : 5.1962  \n",
       "      Vx12             Vx15            maxO3v          vent      pluie   \n",
       " Min.   :-7.878   Min.   :-9.000   Min.   : 42.00   Est  :10   Pluie:43  \n",
       " 1st Qu.:-3.565   1st Qu.:-3.939   1st Qu.: 71.00   Nord :31   Sec  :69  \n",
       " Median :-1.879   Median :-1.550   Median : 82.50   Ouest:50             \n",
       " Mean   :-1.611   Mean   :-1.691   Mean   : 90.57   Sud  :21             \n",
       " 3rd Qu.: 0.000   3rd Qu.: 0.000   3rd Qu.:106.00                        \n",
       " Max.   : 6.578   Max.   : 5.000   Max.   :166.00                        "
      ]
     },
     "metadata": {},
     "output_type": "display_data"
    }
   ],
   "source": [
    "summary(ozone)"
   ]
  },
  {
   "cell_type": "code",
   "execution_count": 3,
   "metadata": {},
   "outputs": [
    {
     "data": {
      "text/html": [
       "<dl class=dl-horizontal>\n",
       "\t<dt>maxO3</dt>\n",
       "\t\t<dd>90.3035714285714</dd>\n",
       "\t<dt>T9</dt>\n",
       "\t\t<dd>18.3607142857143</dd>\n",
       "\t<dt>T12</dt>\n",
       "\t\t<dd>21.5267857142857</dd>\n",
       "\t<dt>T15</dt>\n",
       "\t\t<dd>22.6276785714286</dd>\n",
       "\t<dt>Ne9</dt>\n",
       "\t\t<dd>4.92857142857143</dd>\n",
       "\t<dt>Ne12</dt>\n",
       "\t\t<dd>5.01785714285714</dd>\n",
       "\t<dt>Ne15</dt>\n",
       "\t\t<dd>4.83035714285714</dd>\n",
       "\t<dt>Vx9</dt>\n",
       "\t\t<dd>-1.21434553571429</dd>\n",
       "\t<dt>Vx12</dt>\n",
       "\t\t<dd>-1.61100357142857</dd>\n",
       "\t<dt>Vx15</dt>\n",
       "\t\t<dd>-1.69068303571429</dd>\n",
       "\t<dt>maxO3v</dt>\n",
       "\t\t<dd>90.5714285714286</dd>\n",
       "</dl>\n"
      ],
      "text/latex": [
       "\\begin{description*}\n",
       "\\item[maxO3] 90.3035714285714\n",
       "\\item[T9] 18.3607142857143\n",
       "\\item[T12] 21.5267857142857\n",
       "\\item[T15] 22.6276785714286\n",
       "\\item[Ne9] 4.92857142857143\n",
       "\\item[Ne12] 5.01785714285714\n",
       "\\item[Ne15] 4.83035714285714\n",
       "\\item[Vx9] -1.21434553571429\n",
       "\\item[Vx12] -1.61100357142857\n",
       "\\item[Vx15] -1.69068303571429\n",
       "\\item[maxO3v] 90.5714285714286\n",
       "\\end{description*}\n"
      ],
      "text/markdown": [
       "maxO3\n",
       ":   90.3035714285714T9\n",
       ":   18.3607142857143T12\n",
       ":   21.5267857142857T15\n",
       ":   22.6276785714286Ne9\n",
       ":   4.92857142857143Ne12\n",
       ":   5.01785714285714Ne15\n",
       ":   4.83035714285714Vx9\n",
       ":   -1.21434553571429Vx12\n",
       ":   -1.61100357142857Vx15\n",
       ":   -1.69068303571429maxO3v\n",
       ":   90.5714285714286\n",
       "\n"
      ],
      "text/plain": [
       "    maxO3        T9       T12       T15       Ne9      Ne12      Ne15       Vx9 \n",
       "90.303571 18.360714 21.526786 22.627679  4.928571  5.017857  4.830357 -1.214346 \n",
       "     Vx12      Vx15    maxO3v \n",
       "-1.611004 -1.690683 90.571429 "
      ]
     },
     "metadata": {},
     "output_type": "display_data"
    }
   ],
   "source": [
    "sapply(ozone[,-c(12,13)], mean)  # moyennes"
   ]
  },
  {
   "cell_type": "code",
   "execution_count": 4,
   "metadata": {},
   "outputs": [
    {
     "data": {
      "text/html": [
       "<dl class=dl-horizontal>\n",
       "\t<dt>maxO3</dt>\n",
       "\t\t<dd>28.1872245311529</dd>\n",
       "\t<dt>T9</dt>\n",
       "\t\t<dd>3.12272568462484</dd>\n",
       "\t<dt>T12</dt>\n",
       "\t\t<dd>4.04232076199516</dd>\n",
       "\t<dt>T15</dt>\n",
       "\t\t<dd>4.5308593505329</dd>\n",
       "\t<dt>Ne9</dt>\n",
       "\t\t<dd>2.59491632496902</dd>\n",
       "\t<dt>Ne12</dt>\n",
       "\t\t<dd>2.28186008705299</dd>\n",
       "\t<dt>Ne15</dt>\n",
       "\t\t<dd>2.33225866960132</dd>\n",
       "\t<dt>Vx9</dt>\n",
       "\t\t<dd>2.63274227042877</dd>\n",
       "\t<dt>Vx12</dt>\n",
       "\t\t<dd>2.79567289474315</dd>\n",
       "\t<dt>Vx15</dt>\n",
       "\t\t<dd>2.8101976616668</dd>\n",
       "\t<dt>maxO3v</dt>\n",
       "\t\t<dd>28.2768533889547</dd>\n",
       "</dl>\n"
      ],
      "text/latex": [
       "\\begin{description*}\n",
       "\\item[maxO3] 28.1872245311529\n",
       "\\item[T9] 3.12272568462484\n",
       "\\item[T12] 4.04232076199516\n",
       "\\item[T15] 4.5308593505329\n",
       "\\item[Ne9] 2.59491632496902\n",
       "\\item[Ne12] 2.28186008705299\n",
       "\\item[Ne15] 2.33225866960132\n",
       "\\item[Vx9] 2.63274227042877\n",
       "\\item[Vx12] 2.79567289474315\n",
       "\\item[Vx15] 2.8101976616668\n",
       "\\item[maxO3v] 28.2768533889547\n",
       "\\end{description*}\n"
      ],
      "text/markdown": [
       "maxO3\n",
       ":   28.1872245311529T9\n",
       ":   3.12272568462484T12\n",
       ":   4.04232076199516T15\n",
       ":   4.5308593505329Ne9\n",
       ":   2.59491632496902Ne12\n",
       ":   2.28186008705299Ne15\n",
       ":   2.33225866960132Vx9\n",
       ":   2.63274227042877Vx12\n",
       ":   2.79567289474315Vx15\n",
       ":   2.8101976616668maxO3v\n",
       ":   28.2768533889547\n",
       "\n"
      ],
      "text/plain": [
       "    maxO3        T9       T12       T15       Ne9      Ne12      Ne15       Vx9 \n",
       "28.187225  3.122726  4.042321  4.530859  2.594916  2.281860  2.332259  2.632742 \n",
       "     Vx12      Vx15    maxO3v \n",
       " 2.795673  2.810198 28.276853 "
      ]
     },
     "metadata": {},
     "output_type": "display_data"
    }
   ],
   "source": [
    "    sapply(ozone[,-c(12,13)], sd)    # écarts-types\n",
    "#sapply(1:3, function(x) x^2)\n",
    "#[1] 1 4 9"
   ]
  },
  {
   "cell_type": "code",
   "execution_count": 5,
   "metadata": {},
   "outputs": [
    {
     "data": {
      "image/png": "[encoded data removed]",
      "text/plain": [
       "plot without title"
      ]
     },
     "metadata": {},
     "output_type": "display_data"
    }
   ],
   "source": [
    "# dimensions des graphiques\n",
    "options(repr.plot.width=4, repr.plot.height=4)\n",
    "boxplot(ozone[,2:4]) # boîtes par groupe\n",
    "#com: la température augmente au cours de la journée, faible dispersion pour T9"
   ]
  },
  {
   "cell_type": "code",
   "execution_count": 6,
   "metadata": {},
   "outputs": [
    {
     "data": {
      "image/png": "[encoded data removed]",
      "text/plain": [
       "plot without title"
      ]
     },
     "metadata": {},
     "output_type": "display_data"
    }
   ],
   "source": [
    "boxplot(ozone[,5:7])\n",
    "#com: les nuages diminuent au cours de la journée, forte dispersion des valeurs\n",
    "#présence de valeurs atypiques (ronds)"
   ]
  },
  {
   "cell_type": "code",
   "execution_count": 7,
   "metadata": {},
   "outputs": [
    {
     "data": {
      "image/png": "[encoded data removed]",
      "text/plain": [
       "plot without title"
      ]
     },
     "metadata": {},
     "output_type": "display_data"
    }
   ],
   "source": [
    "boxplot(ozone[,8:10])\n",
    "#com: le vent est constant sur la journée\n",
    "#valeur atypique détectée pour vx12"
   ]
  },
  {
   "cell_type": "code",
   "execution_count": 8,
   "metadata": {},
   "outputs": [
    {
     "data": {
      "image/png": "[encoded data removed]",
      "text/plain": [
       "plot without title"
      ]
     },
     "metadata": {},
     "output_type": "display_data"
    }
   ],
   "source": [
    "boxplot(ozone[,c(1,11)])\n",
    "#com: le graphisme ne montrant pas les jours (effectuant une moyenne), les 2 graphes sont logiquement identiques (le jour même est la veille du lendemain ^^)"
   ]
  },
  {
   "cell_type": "markdown",
   "metadata": {},
   "source": [
    "Commenter les résultats obtenus. Cf chaque graphique (Com)\n",
    "\n",
    "Les deux variables de concentration d'ozone demandent plus d'attention. Il est utile de tester une transformation, souvent le logarithme, pour une variable de concentration."
   ]
  },
  {
   "cell_type": "code",
   "execution_count": 9,
   "metadata": {},
   "outputs": [
    {
     "data": {
      "image/png": "[encoded data removed]",
      "text/plain": [
       "Plot with title \"Histogram of ozone$maxO3\""
      ]
     },
     "metadata": {},
     "output_type": "display_data"
    },
    {
     "data": {
      "image/png": "[encoded data removed]",
      "text/plain": [
       "Plot with title \"Histogram of ozone$maxO3v\""
      ]
     },
     "metadata": {},
     "output_type": "display_data"
    },
    {
     "data": {
      "image/png": "[encoded data removed]",
      "text/plain": [
       "Plot with title \"Histogram of log(ozone$maxO3)\""
      ]
     },
     "metadata": {},
     "output_type": "display_data"
    },
    {
     "data": {
      "image/png": "[encoded data removed]",
      "text/plain": [
       "Plot with title \"Histogram of log(ozone$maxO3v)\""
      ]
     },
     "metadata": {},
     "output_type": "display_data"
    },
    {
     "data": {
      "image/png": "[encoded data removed]",
      "text/plain": [
       "plot without title"
      ]
     },
     "metadata": {},
     "output_type": "display_data"
    }
   ],
   "source": [
    "hist(ozone$maxO3)\n",
    "hist(ozone$maxO3v)\n",
    "hist(log(ozone$maxO3))\n",
    "hist(log(ozone$maxO3v))\n",
    "boxplot(log(ozone[,c(1,11)]))"
   ]
  },
  {
   "cell_type": "markdown",
   "metadata": {},
   "source": [
    "Les distributions semblent alors plus symétriques et ne présentent plus de valeurs atypiques.\n",
    "\n",
    "#### 2.2.2 Variables qualitatives\n",
    "Fréquences des modalités des variables qualitatives."
   ]
  },
  {
   "cell_type": "code",
   "execution_count": 10,
   "metadata": {},
   "outputs": [
    {
     "data": {
      "image/png": "[encoded data removed]",
      "text/plain": [
       "plot without title"
      ]
     },
     "metadata": {},
     "output_type": "display_data"
    },
    {
     "data": {
      "image/png": "[encoded data removed]",
      "text/plain": [
       "plot without title"
      ]
     },
     "metadata": {},
     "output_type": "display_data"
    },
    {
     "data": {
      "image/png": "[encoded data removed]",
      "text/plain": [
       "plot without title"
      ]
     },
     "metadata": {},
     "output_type": "display_data"
    }
   ],
   "source": [
    "barplot(table(ozone$pluie))\n",
    "barplot(table(ozone$vent))\n",
    "pie(table(ozone$vent))"
   ]
  },
  {
   "cell_type": "markdown",
   "metadata": {},
   "source": [
    "### 2.3 [Description bidimensionnelle](http://wikistat.fr/pdf/st-l-des-bi.pdf)\n",
    "#### 2.3.1 Variables quantitatives\n",
    "Une matrice de [nuages de points](http://wikistat.fr/pdf/st-l-des-bi.pdf) donne un aperçu rapide des structures de corrélation : "
   ]
  },
  {
   "cell_type": "code",
   "execution_count": 11,
   "metadata": {},
   "outputs": [
    {
     "data": {
      "image/png": "[encoded data removed]",
      "text/plain": [
       "plot without title"
      ]
     },
     "metadata": {},
     "output_type": "display_data"
    }
   ],
   "source": [
    "options(repr.plot.width=8, repr.plot.height=8)\n",
    "pairs(ozone[,1:11])"
   ]
  },
  {
   "cell_type": "code",
   "execution_count": 12,
   "metadata": {},
   "outputs": [
    {
     "data": {
      "image/png": "[encoded data removed]",
      "text/plain": [
       "plot without title"
      ]
     },
     "metadata": {},
     "output_type": "display_data"
    }
   ],
   "source": [
    "options(repr.plot.width=4, repr.plot.height=4)\n",
    "plot(maxO3~maxO3v,data=ozone)"
   ]
  },
  {
   "cell_type": "code",
   "execution_count": 13,
   "metadata": {},
   "outputs": [
    {
     "data": {
      "image/png": "[encoded data removed]",
      "text/plain": [
       "plot without title"
      ]
     },
     "metadata": {},
     "output_type": "display_data"
    }
   ],
   "source": [
    "plot(log(maxO3)~log(maxO3v),data=ozone)"
   ]
  },
  {
   "cell_type": "markdown",
   "metadata": {},
   "source": [
    "Repérer des groupes de variables très corrélées et la liaison entre les variables  principales d'intérêt.\n",
    "\n",
    "Com: Ne9, Ne12, et Ne15 sont corrélées à maxO3v (plus il y a de nuages moins il y a d'ozone). Corrélation faible du vent. \n",
    "MaxO3v et Max03 très corrélées (plus il y a d'ozone la veille, plus il y en a le lendemain (assez logique ^^)).\n",
    "Les variables T semblent très corrélées entre elles, les variables T et maxO3 semblent également légèrement corrélées, les variables Ne ne présentent pas de corrélation entre elles, les variables Vx sembles fortement corrélées entre elles \n",
    "\n",
    "#### 2.3.2 Variables qualitatives\n",
    "calcul de la [table de contingence](http://wikistat.fr/pdf/st-l-des-bi.pdf) et graphe des profils colonnes dans un 'mosaic plot'."
   ]
  },
  {
   "cell_type": "code",
   "execution_count": 14,
   "metadata": {},
   "outputs": [
    {
     "data": {
      "text/plain": [
       "       \n",
       "        Pluie Sec\n",
       "  Est       2   8\n",
       "  Nord     10  21\n",
       "  Ouest    26  24\n",
       "  Sud       5  16"
      ]
     },
     "metadata": {},
     "output_type": "display_data"
    },
    {
     "data": {
      "image/png": "[encoded data removed]",
      "text/plain": [
       "Plot with title \"table(ozone$vent, ozone$pluie)\""
      ]
     },
     "metadata": {},
     "output_type": "display_data"
    }
   ],
   "source": [
    "table(ozone$vent,ozone$pluie)\n",
    "mosaicplot(table(ozone$vent,ozone$pluie))"
   ]
  },
  {
   "cell_type": "markdown",
   "metadata": {},
   "source": [
    "Commenter la liaison entre ces deux variables.\n",
    "\n",
    "Com: Si on souhaite de la pluie il faut espérer un vent d'ouest. Si on souhaite du temps sec, un vent d'est ou de sud est optimal, à défaut un vent de Nord offre 2/3 chances qu'il fasse sec.\n",
    "\n",
    "#### 2.3.3 Variables qualitatives et quantitatives\n",
    "Représenter une possible liaison entre les variables principales et celles qualitatives par des [diagrammes boîte](http://wikistat.fr/pdf/st-l-des-bi.pdf)."
   ]
  },
  {
   "cell_type": "code",
   "execution_count": 15,
   "metadata": {},
   "outputs": [
    {
     "data": {
      "image/png": "[encoded data removed]",
      "text/plain": [
       "plot without title"
      ]
     },
     "metadata": {},
     "output_type": "display_data"
    },
    {
     "data": {
      "image/png": "[encoded data removed]",
      "text/plain": [
       "plot without title"
      ]
     },
     "metadata": {},
     "output_type": "display_data"
    }
   ],
   "source": [
    "boxplot(maxO3~pluie,data=ozone)\n",
    "boxplot(maxO3~vent,data=ozone)"
   ]
  },
  {
   "cell_type": "markdown",
   "metadata": {},
   "source": [
    "Commenter.\n",
    "\n",
    "#Com: \n",
    "*Quelques valeurs sortent des diagrammes, il pourrait être judicieux de passer les données au log pour avoir une meilleur représentation des données. \n",
    "En cas de pluie, plus de 50% des valeurs de maxO3 sont entre 60 et 80, tandis qu'en cas de temps sec plus de 75% des valeurs de maxO3 sont au-dessus de 80.\n",
    "Il semble que de fortes valeurs de maxO3 soient corrélées avec un vent d'Est, la quasi totalité des valeurs dans ce cas sont au-dessus de 90. De manière générale une forte valeur de maxO3 semble être corrélée avec un vent d'Est ou du Sud (75% des valeurs au-dessus de 80). Néanmoins il semble difficile de différencier un vent d'Ouest ou de Nord avec les valeurs du maxO3 qui sont très similaires. Notons que les valeurs de maxO3 pour le vent de Sud sont très étendues et hormis éventuellement pour les valeurs les plus hautes, il semble difficile de différencier vent d'Ouest, du Nord et du Sud.*\n",
    "\n",
    "Bien d'autres options permettent de modifier les apparences des graphiques (titres, légendes...). Consulter l'aide en ligne si nécessaire.\n",
    "\n",
    "## 3 [Tests de comparaison](http://wikistat.fr/pdf/st-l-inf-tests.pdf)\n",
    "*Important* : Lors de l'exécution de chaque [test](http://wikistat.fr/pdf/st-l-inf-tests.pdf) préciser explicitement :\n",
    "- la question posée,\n",
    "- l'hypothèse $H_0$ en relation avec la question et associée au test, \n",
    "- la p-valeur calculée et la décision du test, \n",
    "- la réponse à la question.\n",
    "\n",
    "\n",
    "### 3.1 Cas gaussien\n",
    "Beaucoup des outils ci-dessous nécessitent de vérifier le caractère gaussien ou non de la distribution. En fait, le nombre important d'observations dans l'échantillon permet de s'affranchir de cette hypothèse mais il est utile de savoir la vérifier et éventuellement de sélectionner la transformation la plus appropriée des données notamment pour les variables de concentration d'ozone.\n",
    "\n",
    "#### 3.1.1 Normalité d'une distribution : Shapiro-Wilks\n",
    "La [droite de Henri](http://wikistat.fr/pdf/st-l-inf-tests.pdf) ou graphe quantile-quantile  donne déjà un aperçu graphique de la normalité de la distribution avant de calculer le test."
   ]
  },
  {
   "cell_type": "code",
   "execution_count": 16,
   "metadata": {},
   "outputs": [
    {
     "data": {
      "image/png": "[encoded data removed]",
      "text/plain": [
       "Plot with title \"Normal Q-Q Plot\""
      ]
     },
     "metadata": {},
     "output_type": "display_data"
    }
   ],
   "source": [
    "# qq-plots\n",
    "qqnorm(ozone$maxO3)\n",
    "qqline(ozone$maxO3,col=2)"
   ]
  },
  {
   "cell_type": "code",
   "execution_count": 17,
   "metadata": {},
   "outputs": [
    {
     "data": {
      "image/png": "[encoded data removed]",
      "text/plain": [
       "Plot with title \"Normal Q-Q Plot\""
      ]
     },
     "metadata": {},
     "output_type": "display_data"
    }
   ],
   "source": [
    "qqnorm(log(ozone$maxO3))\n",
    "qqline(log(ozone$maxO3),col=2)"
   ]
  },
  {
   "cell_type": "code",
   "execution_count": 18,
   "metadata": {},
   "outputs": [
    {
     "data": {
      "text/plain": [
       "\n",
       "\tShapiro-Wilk normality test\n",
       "\n",
       "data:  ozone$maxO3\n",
       "W = 0.906, p-value = 8.516e-07\n"
      ]
     },
     "metadata": {},
     "output_type": "display_data"
    },
    {
     "data": {
      "text/plain": [
       "\n",
       "\tShapiro-Wilk normality test\n",
       "\n",
       "data:  log(ozone$maxO3)\n",
       "W = 0.9685, p-value = 0.009509\n"
      ]
     },
     "metadata": {},
     "output_type": "display_data"
    },
    {
     "name": "stderr",
     "output_type": "stream",
     "text": [
      "Warning message in ks.test(ozone$maxO3, \"pnorm\"):\n",
      "\"ties should not be present for the Kolmogorov-Smirnov test\""
     ]
    },
    {
     "data": {
      "text/plain": [
       "\n",
       "\tOne-sample Kolmogorov-Smirnov test\n",
       "\n",
       "data:  ozone$maxO3\n",
       "D = 1, p-value < 2.2e-16\n",
       "alternative hypothesis: two-sided\n"
      ]
     },
     "metadata": {},
     "output_type": "display_data"
    }
   ],
   "source": [
    "# Test de shapiro-Wilks\n",
    "shapiro.test(ozone$maxO3)\n",
    "shapiro.test(log(ozone$maxO3))\n",
    "\n",
    "ks.test(ozone$maxO3, \"pnorm\") #or ks.test(x, \"pnorm\", mean=0, sd=1) (def)  #added"
   ]
  },
  {
   "cell_type": "markdown",
   "metadata": {},
   "source": [
    "Le [test](http://wikistat.fr/pdf/st-l-inf-tests.pdf) de Kolmogorov-Smirnov de comparaison à une distribution théorique pourrait également être utilisé (`ks.test`).\n",
    "\n",
    "Com: Pas vraiment non: \"\n",
    "The K-S test is for a continuous distribution and so MYDATA should not contain any ties (repeated values).\n",
    "The theory underlying the K-S test does not let you estimate the parameters of the distribution from the data as you have done. The help for ks.test explains this.\"\n",
    "\n",
    "\n",
    "Les variables transformées sont ajoutées dans la table."
   ]
  },
  {
   "cell_type": "code",
   "execution_count": 19,
   "metadata": {},
   "outputs": [
    {
     "data": {
      "text/plain": [
       "     maxO3              T9             T12             T15       \n",
       " Min.   : 42.00   Min.   :11.30   Min.   :14.00   Min.   :14.90  \n",
       " 1st Qu.: 70.75   1st Qu.:16.20   1st Qu.:18.60   1st Qu.:19.27  \n",
       " Median : 81.50   Median :17.80   Median :20.55   Median :22.05  \n",
       " Mean   : 90.30   Mean   :18.36   Mean   :21.53   Mean   :22.63  \n",
       " 3rd Qu.:106.00   3rd Qu.:19.93   3rd Qu.:23.55   3rd Qu.:25.40  \n",
       " Max.   :166.00   Max.   :27.00   Max.   :33.50   Max.   :35.50  \n",
       "      Ne9             Ne12            Ne15           Vx9         \n",
       " Min.   :0.000   Min.   :0.000   Min.   :0.00   Min.   :-7.8785  \n",
       " 1st Qu.:3.000   1st Qu.:4.000   1st Qu.:3.00   1st Qu.:-3.2765  \n",
       " Median :6.000   Median :5.000   Median :5.00   Median :-0.8660  \n",
       " Mean   :4.929   Mean   :5.018   Mean   :4.83   Mean   :-1.2143  \n",
       " 3rd Qu.:7.000   3rd Qu.:7.000   3rd Qu.:7.00   3rd Qu.: 0.6946  \n",
       " Max.   :8.000   Max.   :8.000   Max.   :8.00   Max.   : 5.1962  \n",
       "      Vx12             Vx15            maxO3v          vent      pluie   \n",
       " Min.   :-7.878   Min.   :-9.000   Min.   : 42.00   Est  :10   Pluie:43  \n",
       " 1st Qu.:-3.565   1st Qu.:-3.939   1st Qu.: 71.00   Nord :31   Sec  :69  \n",
       " Median :-1.879   Median :-1.550   Median : 82.50   Ouest:50             \n",
       " Mean   :-1.611   Mean   :-1.691   Mean   : 90.57   Sud  :21             \n",
       " 3rd Qu.: 0.000   3rd Qu.: 0.000   3rd Qu.:106.00                        \n",
       " Max.   : 6.578   Max.   : 5.000   Max.   :166.00                        \n",
       "     LmaxO3         LmaxO3v     \n",
       " Min.   :3.738   Min.   :3.738  \n",
       " 1st Qu.:4.259   1st Qu.:4.263  \n",
       " Median :4.401   Median :4.413  \n",
       " Mean   :4.459   Mean   :4.462  \n",
       " 3rd Qu.:4.663   3rd Qu.:4.663  \n",
       " Max.   :5.112   Max.   :5.112  "
      ]
     },
     "metadata": {},
     "output_type": "display_data"
    }
   ],
   "source": [
    "ozone=data.frame(ozone,LmaxO3=log(ozone$maxO3),LmaxO3v=log(ozone$maxO3v))\n",
    "summary(ozone)"
   ]
  },
  {
   "cell_type": "markdown",
   "metadata": {},
   "source": [
    "#### 3.1.2 Intervalle de confiance d'une moyenne : Student\n",
    "Il est important de savoir estimer l'[intervalle de confiance](http://wikistat.fr/pdf/st-l-inf-estim.pdf) d'une moyenne ; celui-ci permet de tester l'égalité de cette moyenne à une valeur théorique selon l'appartenance ou non de cette valeur à l'intervalle. L'effectif étant suffisamment grand, il n'est pas nécessaire de supposer la normalité des données mais la variable transformée la plus \"gaussienne\" est choisie. L'intervalle de confiance est calculé par défaut avec un seuil à 95% mais ce paramètre peut être précisé (`conf.level=.95`) de même que la moyenne théorique testée (`mu=0.0`, par défaut à 0)."
   ]
  },
  {
   "cell_type": "code",
   "execution_count": 20,
   "metadata": {},
   "outputs": [
    {
     "data": {
      "text/plain": [
       "\n",
       "\tOne Sample t-test\n",
       "\n",
       "data:  ozone$LmaxO3\n",
       "t = 161, df = 111, p-value < 2.2e-16\n",
       "alternative hypothesis: true mean is not equal to 0\n",
       "95 percent confidence interval:\n",
       " 4.404272 4.514039\n",
       "sample estimates:\n",
       "mean of x \n",
       " 4.459155 \n"
      ]
     },
     "metadata": {},
     "output_type": "display_data"
    }
   ],
   "source": [
    "t.test(ozone$LmaxO3, conf.level=.95)"
   ]
  },
  {
   "cell_type": "markdown",
   "metadata": {},
   "source": [
    "#### 3.1.3 Comparaison de deux variances : Fisher\n",
    "On s'intéresse à l'influence de la présence de pluie sur la concentration en ozone. [Tester](http://wikistat.fr/pdf/st-l-inf-tests.pdf) l'égalité des deux moyennes nécessite de vérifier péralablement plusieurs points:\n",
    "- la normalité des distributions dans chaque classe à moins que l'échantillon soit considéré de taille suffisamment grande, \n",
    "- le caractère indépendant ou appariés des échantillons, \n",
    "- l'égalité ou non des variances à l'intérieure de chaque groupe.\n",
    "On dispose de deux échantillons *indépendants*: les jours de pluie et les jours de temps sec. Testons les autres hypothèses."
   ]
  },
  {
   "cell_type": "code",
   "execution_count": 21,
   "metadata": {},
   "outputs": [
    {
     "data": {
      "text/plain": [
       "\n",
       "\tShapiro-Wilk normality test\n",
       "\n",
       "data:  ozone[ozone$pluie == \"Pluie\", \"LmaxO3\"]\n",
       "W = 0.96768, p-value = 0.2625\n"
      ]
     },
     "metadata": {},
     "output_type": "display_data"
    }
   ],
   "source": [
    "# Normalité des distributions (facultatif)\n",
    "shapiro.test(ozone[ozone$pluie==\"Pluie\",\"LmaxO3\"])"
   ]
  },
  {
   "cell_type": "code",
   "execution_count": 22,
   "metadata": {},
   "outputs": [
    {
     "data": {
      "text/plain": [
       "\n",
       "\tShapiro-Wilk normality test\n",
       "\n",
       "data:  ozone[ozone$pluie == \"Sec\", \"LmaxO3\"]\n",
       "W = 0.94131, p-value = 0.002842\n"
      ]
     },
     "metadata": {},
     "output_type": "display_data"
    }
   ],
   "source": [
    "shapiro.test(ozone[ozone$pluie==\"Sec\",\"LmaxO3\"])"
   ]
  },
  {
   "cell_type": "code",
   "execution_count": 23,
   "metadata": {},
   "outputs": [
    {
     "data": {
      "text/plain": [
       "\n",
       "\tF test to compare two variances\n",
       "\n",
       "data:  LmaxO3 by pluie\n",
       "F = 0.69867, num df = 42, denom df = 68, p-value = 0.2138\n",
       "alternative hypothesis: true ratio of variances is not equal to 1\n",
       "95 percent confidence interval:\n",
       " 0.4103481 1.2333465\n",
       "sample estimates:\n",
       "ratio of variances \n",
       "         0.6986744 \n"
      ]
     },
     "metadata": {},
     "output_type": "display_data"
    }
   ],
   "source": [
    "# égalité des variances (test de Fisher)\n",
    "var.test(LmaxO3~pluie,data=ozone)"
   ]
  },
  {
   "cell_type": "markdown",
   "metadata": {},
   "source": [
    "Commenter les résultats.\n",
    "\n",
    "#Com: Pour alpha = 0.05 (95%) la pluie suit une loi normale (p-value=0.27 >alpha)\n",
    "    Sec ne suit pas une loi normale (p-value=0.003 <alpha)\n",
    "    \n",
    "Test variance: H0=les variances sont égales (p-value~=0.21 >alpha), H0 accepté, les variances sont considéres comme égales\n",
    "    \n",
    "(\"The null-hypothesis of this test is that the population is normally distributed. Thus, on the one hand, if the p value is less than the chosen alpha level, then the null hypothesis is rejected and there is evidence that the data tested are not normally distributed. On the other hand, if the p value is greater than the chosen alpha level, then the null hypothesis that the data came from a normally distributed population can not be rejected (e.g., for an alpha level of .05, a data set with a p value of less than .05 rejects the null hypothesis that the data are from a normally distributed population) \")\n",
    "#### 3.1.4 Comparaison de deux moyennes\n",
    "Le [test](http://wikistat.fr/pdf/st-l-inf-tests.pdf) de comparaison des moyennes à utiliser (Student *vs.* Welsh) dépend du résultat précédent concernant l'égalité des variances.\n",
    "\n",
    "##### Echantillons indépendants\n",
    "\n",
    "Si les variances sont différentes, il s'agit d'un test de Welch."
   ]
  },
  {
   "cell_type": "code",
   "execution_count": 24,
   "metadata": {},
   "outputs": [
    {
     "data": {
      "text/plain": [
       "\n",
       "\tWelch Two Sample t-test\n",
       "\n",
       "data:  LmaxO3 by pluie\n",
       "t = -6.4799, df = 100.8, p-value = 3.411e-09\n",
       "alternative hypothesis: true difference in means is not equal to 0\n",
       "95 percent confidence interval:\n",
       " -0.3995721 -0.2122638\n",
       "sample estimates:\n",
       "mean in group Pluie   mean in group Sec \n",
       "           4.270688            4.576606 \n"
      ]
     },
     "metadata": {},
     "output_type": "display_data"
    }
   ],
   "source": [
    "t.test(LmaxO3~pluie,var.equal=F, data=ozone)"
   ]
  },
  {
   "cell_type": "markdown",
   "metadata": {},
   "source": [
    "Dans le cas où elles sont considérées égales, c'est un test de Student."
   ]
  },
  {
   "cell_type": "code",
   "execution_count": 25,
   "metadata": {},
   "outputs": [
    {
     "data": {
      "text/plain": [
       "\n",
       "\tTwo Sample t-test\n",
       "\n",
       "data:  LmaxO3 by pluie\n",
       "t = -6.2161, df = 110, p-value = 9.364e-09\n",
       "alternative hypothesis: true difference in means is not equal to 0\n",
       "95 percent confidence interval:\n",
       " -0.4034476 -0.2083884\n",
       "sample estimates:\n",
       "mean in group Pluie   mean in group Sec \n",
       "           4.270688            4.576606 \n"
      ]
     },
     "metadata": {},
     "output_type": "display_data"
    }
   ],
   "source": [
    "t.test(LmaxO3~pluie,var.equal=T, data=ozone)"
   ]
  },
  {
   "cell_type": "markdown",
   "metadata": {},
   "source": [
    "##### Echantillons appariés\n",
    "\n",
    "On se propose d'étudier la persistance moyenne de la concentration en comparant la moyenne du jour avec celle de la veille. La mesure étant observée au même point à deux instants différents, les échantillons sont cette fois appariés."
   ]
  },
  {
   "cell_type": "code",
   "execution_count": 26,
   "metadata": {},
   "outputs": [
    {
     "data": {
      "text/plain": [
       "\n",
       "\tPaired t-test\n",
       "\n",
       "data:  ozone$maxO3 and ozone$maxO3v\n",
       "t = -0.1264, df = 111, p-value = 0.8996\n",
       "alternative hypothesis: true difference in means is not equal to 0\n",
       "95 percent confidence interval:\n",
       " -4.466883  3.931169\n",
       "sample estimates:\n",
       "mean of the differences \n",
       "             -0.2678571 \n"
      ]
     },
     "metadata": {},
     "output_type": "display_data"
    }
   ],
   "source": [
    "t.test(ozone$maxO3, ozone$maxO3v,paired=TRUE)"
   ]
  },
  {
   "cell_type": "markdown",
   "metadata": {},
   "source": [
    "### 3.2 Cas non-paramétrique\n",
    "Si l'hypothèse de normalité des distributions n'est pas vérifiée et si l'échantillon est trop réduit, c'est un [test](http://wikistat.fr/pdf/st-l-inf-tests.pdf) non-paramétrique qu'il faut mettre en oeuvre. Les tests non-paramétriques sont basés sur les rangs des observations et donc sur les comparaisons des médianes des échantillons. Une transformation des variables par une fonction monotone (*i.e.* $\\log$) qui ne changent pas leur ordonnancement  n'a donc pas d'effet sur le calcul d'un test non paramétrique.\n",
    "\n",
    "#### 3.2.1 Comparaison de deux médianes : Wilcoxon\n",
    "\n",
    "##### Echantillons indépendants"
   ]
  },
  {
   "cell_type": "code",
   "execution_count": 27,
   "metadata": {},
   "outputs": [
    {
     "data": {
      "text/html": [
       "<dl class=dl-horizontal>\n",
       "\t<dt>Pluie</dt>\n",
       "\t\t<dd>4.24849524204936</dd>\n",
       "\t<dt>Sec</dt>\n",
       "\t\t<dd>4.52178857704904</dd>\n",
       "</dl>\n"
      ],
      "text/latex": [
       "\\begin{description*}\n",
       "\\item[Pluie] 4.24849524204936\n",
       "\\item[Sec] 4.52178857704904\n",
       "\\end{description*}\n"
      ],
      "text/markdown": [
       "Pluie\n",
       ":   4.24849524204936Sec\n",
       ":   4.52178857704904\n",
       "\n"
      ],
      "text/plain": [
       "   Pluie      Sec \n",
       "4.248495 4.521789 "
      ]
     },
     "metadata": {},
     "output_type": "display_data"
    },
    {
     "data": {
      "text/plain": [
       "\n",
       "\tWilcoxon rank sum test with continuity correction\n",
       "\n",
       "data:  maxO3 by pluie\n",
       "W = 547.5, p-value = 2.166e-08\n",
       "alternative hypothesis: true location shift is not equal to 0\n"
      ]
     },
     "metadata": {},
     "output_type": "display_data"
    }
   ],
   "source": [
    "tapply(ozone$LmaxO3, ozone$pluie, median)\n",
    "wilcox.test(maxO3 ~ pluie, data=ozone)"
   ]
  },
  {
   "cell_type": "markdown",
   "metadata": {},
   "source": [
    "##### Echantillons appariés"
   ]
  },
  {
   "cell_type": "code",
   "execution_count": 28,
   "metadata": {},
   "outputs": [
    {
     "data": {
      "text/html": [
       "0.0103096436013681"
      ],
      "text/latex": [
       "0.0103096436013681"
      ],
      "text/markdown": [
       "0.0103096436013681"
      ],
      "text/plain": [
       "[1] 0.01030964"
      ]
     },
     "metadata": {},
     "output_type": "display_data"
    },
    {
     "data": {
      "text/plain": [
       "\n",
       "\tWilcoxon signed rank test with continuity correction\n",
       "\n",
       "data:  ozone$LmaxO3 and ozone$LmaxO3v\n",
       "V = 3126, p-value = 0.9589\n",
       "alternative hypothesis: true location shift is not equal to 0\n"
      ]
     },
     "metadata": {},
     "output_type": "display_data"
    }
   ],
   "source": [
    "median(ozone$LmaxO3 - ozone$LmaxO3v)\n",
    "wilcox.test(ozone$LmaxO3, ozone$LmaxO3v,paired=TRUE)"
   ]
  },
  {
   "cell_type": "markdown",
   "metadata": {},
   "source": [
    "Comparer avec les résultats des tests paramétriques.\n",
    "\n",
    "Même resultats,pour paramètriques ou non :  le 1er, H0 est rejeté, le deuxième H0 est accepté."
   ]
  },
  {
   "cell_type": "markdown",
   "metadata": {},
   "source": [
    "## 4 [Tests de liaison](http://wikistat.fr/pdf/st-l-inf-tests.pdf)\n",
    "### 4.1 Indépendance de 2 variables qualitatives\n",
    "Le [test](http://wikistat.fr/pdf/st-l-inf-tests.pdf) du $\\chi 2$ est adapté à ce problème."
   ]
  },
  {
   "cell_type": "code",
   "execution_count": 29,
   "metadata": {},
   "outputs": [
    {
     "name": "stderr",
     "output_type": "stream",
     "text": [
      "Warning message in chisq.test(table(ozone$pluie, ozone$vent)):\n",
      "\"Chi-squared approximation may be incorrect\""
     ]
    },
    {
     "data": {
      "text/plain": [
       "\n",
       "\tPearson's Chi-squared test\n",
       "\n",
       "data:  table(ozone$pluie, ozone$vent)\n",
       "X-squared = 7.7258, df = 3, p-value = 0.05203\n"
      ]
     },
     "metadata": {},
     "output_type": "display_data"
    }
   ],
   "source": [
    "chisq.test(table(ozone$pluie,ozone$vent))"
   ]
  },
  {
   "cell_type": "markdown",
   "metadata": {},
   "source": [
    "Remarque : un avertissement peut signaler que les effectifs théoriques (sous hypothèse d'indépendance) de certaines cellules sont trop faibles pour justifier des propriétés asymtotiques du test du $\\chi 2$. Il est dans ce cas nécessaire de regrouper des modalités.\n",
    "### 4.2 Une quantitative et une qualitative\n",
    "L'[ANOVA](http://wikistat.fr/pdf/st-l-inf-tests.pdf) associée à un test de Fisher adapté à cette situation est sans doute le test le plus utilisé ; il revient au test de Student lorsque la variable qualitative n'a que deux modalités.  L'ANOVA nécessite de vérifier:\n",
    "\n",
    "- le caractère indépendant des échantillons, \n",
    "- la normalité des distributions (ou une taille suffisante d'échantillon) dans chaque classe ou plutôt la normalité des résidus au modèle, \n",
    "- l'égalité des variances internes à chaque groupe.\n",
    "\n",
    "Même si la normalité des résidus est vérifiée \\emph{a posteriori}, c'est \\emph{a priori} qu'il faut prendre en compte ce résultat pour statuer sur la légitimité du test. \n",
    "\n",
    "Si la normalité n'est pas vérifiée pour un petit échantillon ou si l'agalité des variances n'est pas acceptable, un test [non-paramétrique](http://wikistat.fr/pdf/st-l-inf-tests.pdf) (Kruskal-Wallis) doit être envisagé.\n",
    "\n",
    "#### 4.2.1 Cas gaussien : ANOVA - Fisher\n",
    "Le test de Bartlett permet de comparer les variances des groupes dans le cas gaussien ou paramétrique."
   ]
  },
  {
   "cell_type": "code",
   "execution_count": 30,
   "metadata": {},
   "outputs": [
    {
     "data": {
      "text/plain": [
       "\n",
       "\tBartlett test of homogeneity of variances\n",
       "\n",
       "data:  LmaxO3 by vent\n",
       "Bartlett's K-squared = 0.55238, df = 3, p-value = 0.9072\n"
      ]
     },
     "metadata": {},
     "output_type": "display_data"
    }
   ],
   "source": [
    "# test de Bartlett\n",
    "bartlett.test(LmaxO3 ~ vent, data=ozone)"
   ]
  },
  {
   "cell_type": "code",
   "execution_count": 31,
   "metadata": {},
   "outputs": [],
   "source": [
    "# ANOVA à un facteur\n",
    "# estimation des paramètres\n",
    "res.anova=aov(LmaxO3 ~ vent, data=ozone)"
   ]
  },
  {
   "cell_type": "code",
   "execution_count": 32,
   "metadata": {},
   "outputs": [
    {
     "data": {
      "text/plain": [
       "\n",
       "\tShapiro-Wilk normality test\n",
       "\n",
       "data:  res.anova$residuals\n",
       "W = 0.9665, p-value = 0.00652\n"
      ]
     },
     "metadata": {},
     "output_type": "display_data"
    },
    {
     "data": {
      "image/png": "[encoded data removed]",
      "text/plain": [
       "Plot with title \"Normal Q-Q Plot\""
      ]
     },
     "metadata": {},
     "output_type": "display_data"
    }
   ],
   "source": [
    "# normalité des résidus au modèle d'ANOVA\n",
    "qqnorm(res.anova$residuals)\n",
    "qqline(res.anova$residuals)\n",
    "shapiro.test(res.anova$residuals)"
   ]
  },
  {
   "cell_type": "code",
   "execution_count": 33,
   "metadata": {},
   "outputs": [
    {
     "data": {
      "text/plain": [
       "             Df Sum Sq Mean Sq F value Pr(>F)  \n",
       "vent          3  0.859 0.28626   3.563 0.0166 *\n",
       "Residuals   108  8.678 0.08035                 \n",
       "---\n",
       "Signif. codes:  0 '***' 0.001 '**' 0.01 '*' 0.05 '.' 0.1 ' ' 1"
      ]
     },
     "metadata": {},
     "output_type": "display_data"
    }
   ],
   "source": [
    "# Interprétation du test\n",
    "summary(res.anova)"
   ]
  },
  {
   "cell_type": "markdown",
   "metadata": {},
   "source": [
    "Commenter.\n",
    "Test  de Bartlette ok (pvalue~=0.9 >0.05) et Shapiro-Wilk pas validé pour alpha =0.05 (p-value ~= 0.006)\n",
    "\n",
    "#### 4.2.2 Cas non-paramétrique : Kruskal-Wallis"
   ]
  },
  {
   "cell_type": "code",
   "execution_count": 34,
   "metadata": {},
   "outputs": [
    {
     "data": {
      "text/plain": [
       "\n",
       "\tKruskal-Wallis rank sum test\n",
       "\n",
       "data:  maxO3 by vent\n",
       "Kruskal-Wallis chi-squared = 13.645, df = 3, p-value = 0.003431\n"
      ]
     },
     "metadata": {},
     "output_type": "display_data"
    }
   ],
   "source": [
    "kruskal.test(maxO3 ~ vent, data=ozone)"
   ]
  },
  {
   "cell_type": "markdown",
   "metadata": {},
   "source": [
    "Comparer les résultats.\n",
    "#Com : les médianes ne sont pas égales (H0 refuté)\n",
    "the null hypothesis is that the medians of all groups are equal, and the alternative hypothesis is that at least one population median of one group is different from the population median of at least one other group. \n",
    "\n",
    "### 4.3 [Deux variables quantitatives](http://wikistat.fr/pdf/st-l-inf-regsim.pdf)\n",
    "La [régression simple](http://wikistat.fr/pdf/st-l-inf-regsim.pdf) permet de tester l'influence éventuelle d'une variable sur une autre et plus précisément, dans le cas de cet exemple, d'expliquer et même de prévoir la concentration d'ozone en fonction de celle de la veille.\n",
    "La commande `lm` produit un ensemble de résultats sous la forme d'une liste de matrices et vecteurs.\n",
    "#### 4.3.1 Estimation du modèle"
   ]
  },
  {
   "cell_type": "code",
   "execution_count": 35,
   "metadata": {},
   "outputs": [
    {
     "data": {
      "image/png": "[encoded data removed]",
      "text/plain": [
       "plot without title"
      ]
     },
     "metadata": {},
     "output_type": "display_data"
    }
   ],
   "source": [
    "# retracer le nuage de point\n",
    "plot(LmaxO3 ~ LmaxO3v,data=ozone)"
   ]
  },
  {
   "cell_type": "code",
   "execution_count": 53,
   "metadata": {},
   "outputs": [
    {
     "data": {
      "text/html": [
       "<ol class=list-inline>\n",
       "\t<li>'coefficients'</li>\n",
       "\t<li>'residuals'</li>\n",
       "\t<li>'effects'</li>\n",
       "\t<li>'rank'</li>\n",
       "\t<li>'fitted.values'</li>\n",
       "\t<li>'assign'</li>\n",
       "\t<li>'qr'</li>\n",
       "\t<li>'df.residual'</li>\n",
       "\t<li>'xlevels'</li>\n",
       "\t<li>'call'</li>\n",
       "\t<li>'terms'</li>\n",
       "\t<li>'model'</li>\n",
       "</ol>\n"
      ],
      "text/latex": [
       "\\begin{enumerate*}\n",
       "\\item 'coefficients'\n",
       "\\item 'residuals'\n",
       "\\item 'effects'\n",
       "\\item 'rank'\n",
       "\\item 'fitted.values'\n",
       "\\item 'assign'\n",
       "\\item 'qr'\n",
       "\\item 'df.residual'\n",
       "\\item 'xlevels'\n",
       "\\item 'call'\n",
       "\\item 'terms'\n",
       "\\item 'model'\n",
       "\\end{enumerate*}\n"
      ],
      "text/markdown": [
       "1. 'coefficients'\n",
       "2. 'residuals'\n",
       "3. 'effects'\n",
       "4. 'rank'\n",
       "5. 'fitted.values'\n",
       "6. 'assign'\n",
       "7. 'qr'\n",
       "8. 'df.residual'\n",
       "9. 'xlevels'\n",
       "10. 'call'\n",
       "11. 'terms'\n",
       "12. 'model'\n",
       "\n",
       "\n"
      ],
      "text/plain": [
       " [1] \"coefficients\"  \"residuals\"     \"effects\"       \"rank\"         \n",
       " [5] \"fitted.values\" \"assign\"        \"qr\"            \"df.residual\"  \n",
       " [9] \"xlevels\"       \"call\"          \"terms\"         \"model\"        "
      ]
     },
     "metadata": {},
     "output_type": "display_data"
    }
   ],
   "source": [
    "# estimation du modèle\n",
    "res1.reg=lm(LmaxO3 ~ LmaxO3v, data = ozone)\n",
    "# liste des résultats\n",
    "names(res1.reg)"
   ]
  },
  {
   "cell_type": "markdown",
   "metadata": {},
   "source": [
    "#### 4.3.2 Diagnostic des résidus\n",
    "Des graphiques précédents permettent de s'assurer de la \\href{http://wikistat.fr/pdf/st-l-inf-regsim.pdf}{validité du modèle} ; statuer sur l'homoscédasticité des résidus, leur normalité, la bonne linéarité du modèle. "
   ]
  },
  {
   "cell_type": "code",
   "execution_count": 37,
   "metadata": {},
   "outputs": [
    {
     "data": {
      "text/plain": [
       "\n",
       "\tShapiro-Wilk normality test\n",
       "\n",
       "data:  res1.reg$residuals\n",
       "W = 0.98973, p-value = 0.5622\n"
      ]
     },
     "metadata": {},
     "output_type": "display_data"
    },
    {
     "data": {
      "image/png": "[encoded data removed]",
      "text/plain": [
       "Plot with title \"Normal Q-Q Plot\""
      ]
     },
     "metadata": {},
     "output_type": "display_data"
    }
   ],
   "source": [
    "# nuage de point\n",
    "# normalité des résidus\n",
    "qqnorm(res1.reg$residuals)\n",
    "qqline(res1.reg$residuals)\n",
    "shapiro.test(res1.reg$residuals)"
   ]
  },
  {
   "cell_type": "code",
   "execution_count": 38,
   "metadata": {},
   "outputs": [
    {
     "data": {
      "image/png": "[encoded data removed]",
      "text/plain": [
       "plot without title"
      ]
     },
     "metadata": {},
     "output_type": "display_data"
    }
   ],
   "source": [
    "# Repérage d'une structure particulière du nuage\n",
    "# ou de la présence de \"grands\" résidus\n",
    "res.student=rstudent(res1.reg)\n",
    "ychap=res1.reg$fitted.values\n",
    "plot(res.student~ychap,ylab=\"Résidus\")\n",
    "# ajouter des lignes\n",
    "abline(h=c(-2,0,2),lty=c(2,1,2))"
   ]
  },
  {
   "cell_type": "code",
   "execution_count": 39,
   "metadata": {},
   "outputs": [
    {
     "data": {
      "image/png": "[encoded data removed]",
      "text/plain": [
       "plot without title"
      ]
     },
     "metadata": {},
     "output_type": "display_data"
    }
   ],
   "source": [
    "# repérage des points influents\n",
    "cook=cooks.distance(res1.reg)\n",
    "plot(cook~ychap,ylab=\"Distance de Cook\")\n",
    "abline(h=c(0,1),lty=c(1,2))"
   ]
  },
  {
   "cell_type": "markdown",
   "metadata": {},
   "source": [
    "Les résidus sont \"grands\" si, une fois normalisés ou plutôt \"studentisés\", ils sont de valeur absolue plus grande que 2. Une observation est influente si elle a un grand résidu et est associée à une grande valeur sur la diagonale de la *hat matrix*. Cela correspond à une valeur élevée (plus grande que 1) de la distance de Cook.\n",
    "\n",
    "#### 4.3.3 Significativité du modèle"
   ]
  },
  {
   "cell_type": "code",
   "execution_count": 40,
   "metadata": {},
   "outputs": [
    {
     "data": {
      "text/plain": [
       "\n",
       "Call:\n",
       "lm(formula = LmaxO3 ~ LmaxO3v, data = ozone)\n",
       "\n",
       "Residuals:\n",
       "     Min       1Q   Median       3Q      Max \n",
       "-0.47515 -0.15732  0.01408  0.16941  0.57364 \n",
       "\n",
       "Coefficients:\n",
       "            Estimate Std. Error t value Pr(>|t|)    \n",
       "(Intercept)  1.46864    0.31421   4.674 8.42e-06 ***\n",
       "LmaxO3v      0.67024    0.07027   9.538 4.48e-16 ***\n",
       "---\n",
       "Signif. codes:  0 '***' 0.001 '**' 0.01 '*' 0.05 '.' 0.1 ' ' 1\n",
       "\n",
       "Residual standard error: 0.2178 on 110 degrees of freedom\n",
       "Multiple R-squared:  0.4527,\tAdjusted R-squared:  0.4477 \n",
       "F-statistic: 90.98 on 1 and 110 DF,  p-value: 4.482e-16\n"
      ]
     },
     "metadata": {},
     "output_type": "display_data"
    }
   ],
   "source": [
    "summary(res1.reg)"
   ]
  },
  {
   "cell_type": "markdown",
   "metadata": {},
   "source": [
    "Que dire de l'influence de seuil d'ozone de la veille ?  Que dire également de la présence d'observations à effet levier potentiel ? Que dire de la qualité d'ajustement de ce modèle et donc de la qualité attendue de la prévision ?\n",
    "Interpréter les [tests](http://wikistat.fr/pdf/st-l-inf-regsim.pdf).\n",
    "\n",
    "#Com: D'après le nuage de points maxO3v et max03 semblent liés ce qui se confirme avec le test de normalité des résidus qui montre peut d'écart avec la courbe théorique (et p-value =0.5 >>0.05). Il y a un grand résidu (env = 1 sur l'échelle de cook et >2 sur l'échelle de student) mais dans l'ensemble les résidus sont faibles.\n",
    "L'erreur standard est de 0.21, on peut encore affiner le modèle mais cette variable joue indéniablement un rôle dans les valeurs prises par max03\n",
    "\n",
    "## 5 ACP et régression multiple\n",
    "### 5.1 [Analyse en composantes principales](http://wikistat.fr/pdf/st-l-des-multi.pdf)\n",
    "Cette description élémentaire permet de se familiariser avec la structure de corrélation particulière des variables. Il faut sélectionner les seules variables quantitatives et l'\\href{http://wikistat.fr/pdf/st-l-des-multi.pdf}{ACP} est réduite."
   ]
  },
  {
   "cell_type": "code",
   "execution_count": 41,
   "metadata": {},
   "outputs": [
    {
     "data": {
      "image/png": "[encoded data removed]",
      "text/plain": [
       "Plot with title \"res.pca\""
      ]
     },
     "metadata": {},
     "output_type": "display_data"
    }
   ],
   "source": [
    "res.pca=prcomp(ozone[,c(2:10,14,15)],scale=T)\n",
    "# décroissance des valeurs propres\n",
    "plot(res.pca)"
   ]
  },
  {
   "cell_type": "code",
   "execution_count": 42,
   "metadata": {},
   "outputs": [
    {
     "data": {
      "text/plain": [
       "Importance of components:\n",
       "                          PC1    PC2     PC3     PC4     PC5     PC6     PC7\n",
       "Standard deviation     2.4871 1.3651 0.96554 0.77630 0.64948 0.57666 0.46056\n",
       "Proportion of Variance 0.5623 0.1694 0.08475 0.05479 0.03835 0.03023 0.01928\n",
       "Cumulative Proportion  0.5623 0.7318 0.81651 0.87130 0.90964 0.93987 0.95916\n",
       "                           PC8     PC9    PC10    PC11\n",
       "Standard deviation     0.41923 0.39649 0.29065 0.17840\n",
       "Proportion of Variance 0.01598 0.01429 0.00768 0.00289\n",
       "Cumulative Proportion  0.97514 0.98943 0.99711 1.00000"
      ]
     },
     "metadata": {},
     "output_type": "display_data"
    }
   ],
   "source": [
    "# parts de variance expliquée\n",
    "summary(res.pca)"
   ]
  },
  {
   "cell_type": "code",
   "execution_count": 43,
   "metadata": {},
   "outputs": [
    {
     "data": {
      "image/png": "[encoded data removed]",
      "text/plain": [
       "plot without title"
      ]
     },
     "metadata": {},
     "output_type": "display_data"
    }
   ],
   "source": [
    "# biplot du premier plan principal\n",
    "biplot(res.pca)"
   ]
  },
  {
   "cell_type": "markdown",
   "metadata": {},
   "source": [
    "Comment s'interprètent les axes 1 et 2 ?\n",
    "#Com : ?????\n",
    "### 5.2 [Régression multiple](http://wikistat.fr/pdf/st-l-inf-intRegmult.pdf)\n",
    "#### 5.2.1 Modèle linéaire complet\n",
    "La régression linéaire simple ne conduit pas à un modèle bien ajusté. La [régression linéaire multiple](http://wikistat.fr/pdf/st-l-inf-intRegmult.pdf) ci-dessous, plus complexe, recherche un meilleur ajustement des données."
   ]
  },
  {
   "cell_type": "code",
   "execution_count": 44,
   "metadata": {},
   "outputs": [
    {
     "data": {
      "image/png": "[encoded data removed]",
      "text/plain": [
       "Plot with title \"\""
      ]
     },
     "metadata": {},
     "output_type": "display_data"
    },
    {
     "data": {
      "image/png": "[encoded data removed]",
      "text/plain": [
       "Plot with title \"\""
      ]
     },
     "metadata": {},
     "output_type": "display_data"
    },
    {
     "data": {
      "image/png": "[encoded data removed]",
      "text/plain": [
       "Plot with title \"\""
      ]
     },
     "metadata": {},
     "output_type": "display_data"
    },
    {
     "data": {
      "image/png": "[encoded data removed]",
      "text/plain": [
       "Plot with title \"\""
      ]
     },
     "metadata": {},
     "output_type": "display_data"
    }
   ],
   "source": [
    "# estimation\n",
    "res2.reg=lm(LmaxO3 ~ LmaxO3v+T9+T12+T15+Ne9+Ne12+Ne15+Vx9+Vx12+Vx15, data = ozone)\n",
    "# diagnostics\n",
    "plot(res2.reg)"
   ]
  },
  {
   "cell_type": "code",
   "execution_count": 45,
   "metadata": {},
   "outputs": [
    {
     "data": {
      "text/plain": [
       "\n",
       "Call:\n",
       "lm(formula = LmaxO3 ~ LmaxO3v + T9 + T12 + T15 + Ne9 + Ne12 + \n",
       "    Ne15 + Vx9 + Vx12 + Vx15, data = ozone)\n",
       "\n",
       "Residuals:\n",
       "     Min       1Q   Median       3Q      Max \n",
       "-0.48066 -0.09600  0.00047  0.09650  0.41545 \n",
       "\n",
       "Coefficients:\n",
       "              Estimate Std. Error t value Pr(>|t|)    \n",
       "(Intercept)  2.4406855  0.2750477   8.874 2.70e-14 ***\n",
       "LmaxO3v      0.3607895  0.0647189   5.575 2.07e-07 ***\n",
       "T9          -0.0028593  0.0121877  -0.235   0.8150    \n",
       "T12          0.0233395  0.0155098   1.505   0.1355    \n",
       "T15          0.0051470  0.0123747   0.416   0.6783    \n",
       "Ne9         -0.0259009  0.0101483  -2.552   0.0122 *  \n",
       "Ne12         0.0006295  0.0147886   0.043   0.9661    \n",
       "Ne15        -0.0032007  0.0108382  -0.295   0.7684    \n",
       "Vx9          0.0114765  0.0099289   1.156   0.2505    \n",
       "Vx12         0.0020700  0.0114051   0.182   0.8563    \n",
       "Vx15         0.0002917  0.0098968   0.029   0.9765    \n",
       "---\n",
       "Signif. codes:  0 '***' 0.001 '**' 0.01 '*' 0.05 '.' 0.1 ' ' 1\n",
       "\n",
       "Residual standard error: 0.1552 on 101 degrees of freedom\n",
       "Multiple R-squared:  0.7448,\tAdjusted R-squared:  0.7196 \n",
       "F-statistic: 29.48 on 10 and 101 DF,  p-value: < 2.2e-16\n"
      ]
     },
     "metadata": {},
     "output_type": "display_data"
    }
   ],
   "source": [
    "# résultats\n",
    "summary(res2.reg)"
   ]
  },
  {
   "cell_type": "markdown",
   "metadata": {},
   "source": [
    "Commenter les résultats obtenus sur la validité du modèle et la qualité de l'ajustement par rapport au modèle précédent. Que dire à propos de la significativité des tests de Student sur la nullité des paramètres ? Que penser alors de la présence de variables présentant de fortes colinéarités ?\n",
    "\n",
    "#Com: Les tests de student auraient permis d'éliminer les variables non significatives (par exemple Vx15 estimate =0+/-3.10^-4). Les variables présentant de fortes colinéarités avec O3 semblent significatives, mais elles peuvent parfois l'être seulement par leur colinéarité avec une vraie variable d'influence sur 03 (ex: même si T15 présente de la colinéarité avec 03 c'est uniquement parce qu'il présente une colinéarité avec T12, qui lui semble 4 fois plus significatif de T15) .\n",
    "#### 5.2.2 Sous-modèle\n",
    "Une procédure de sélection de modèle non détaillée (*stepwise*) conduit à considérer le modèle ci-dessous : "
   ]
  },
  {
   "cell_type": "code",
   "execution_count": 46,
   "metadata": {},
   "outputs": [
    {
     "data": {
      "image/png": "[encoded data removed]",
      "text/plain": [
       "Plot with title \"\""
      ]
     },
     "metadata": {},
     "output_type": "display_data"
    },
    {
     "data": {
      "image/png": "[encoded data removed]",
      "text/plain": [
       "Plot with title \"\""
      ]
     },
     "metadata": {},
     "output_type": "display_data"
    },
    {
     "data": {
      "image/png": "[encoded data removed]",
      "text/plain": [
       "Plot with title \"\""
      ]
     },
     "metadata": {},
     "output_type": "display_data"
    },
    {
     "data": {
      "image/png": "[encoded data removed]",
      "text/plain": [
       "Plot with title \"\""
      ]
     },
     "metadata": {},
     "output_type": "display_data"
    }
   ],
   "source": [
    "res3.reg=lm(LmaxO3~LmaxO3v+T12+Ne9+Vx9,data=ozone)\n",
    "# diagnostics\n",
    "plot(res3.reg)"
   ]
  },
  {
   "cell_type": "code",
   "execution_count": 47,
   "metadata": {},
   "outputs": [
    {
     "data": {
      "text/plain": [
       "\n",
       "Call:\n",
       "lm(formula = LmaxO3 ~ LmaxO3v + T12 + Ne9 + Vx9, data = ozone)\n",
       "\n",
       "Residuals:\n",
       "     Min       1Q   Median       3Q      Max \n",
       "-0.47363 -0.09343 -0.00138  0.09094  0.43700 \n",
       "\n",
       "Coefficients:\n",
       "             Estimate Std. Error t value Pr(>|t|)    \n",
       "(Intercept)  2.429581   0.242529  10.018  < 2e-16 ***\n",
       "LmaxO3v      0.361741   0.059451   6.085 1.85e-08 ***\n",
       "T12          0.026445   0.005049   5.238 8.18e-07 ***\n",
       "Ne9         -0.027640   0.007312  -3.780 0.000258 ***\n",
       "Vx9          0.014429   0.006551   2.203 0.029764 *  \n",
       "---\n",
       "Signif. codes:  0 '***' 0.001 '**' 0.01 '*' 0.05 '.' 0.1 ' ' 1\n",
       "\n",
       "Residual standard error: 0.1514 on 107 degrees of freedom\n",
       "Multiple R-squared:  0.7429,\tAdjusted R-squared:  0.7333 \n",
       "F-statistic: 77.31 on 4 and 107 DF,  p-value: < 2.2e-16\n"
      ]
     },
     "metadata": {},
     "output_type": "display_data"
    }
   ],
   "source": [
    "# résultats\n",
    "summary(res3.reg)"
   ]
  },
  {
   "cell_type": "markdown",
   "metadata": {},
   "source": [
    "Commenter à nouveau les résultats.\n",
    "#Com: l'erreur standard a diminué, les paramètres conservés présentent un bon niveau de colinéarité. Le plus important étant Lmax03v\n",
    "#### 5.2.3 Meilleure prévision\n",
    "L'objectif est de rechercher le meilleur modèle de prévision de la concentration en ozone. Ceux-ci sont comparés en considérant le [PRESS](http://wikistat.fr/pdf/st-l-inf-intRegmult.pdf) (predicted residual sums of squares) ou *leave one out cross validation*. Une fonction élémentaire est définie pour calculer le PRESS dans le cas élémentaire de la régression linéaire."
   ]
  },
  {
   "cell_type": "code",
   "execution_count": 48,
   "metadata": {},
   "outputs": [
    {
     "data": {
      "text/html": [
       "0.0484471204082239"
      ],
      "text/latex": [
       "0.0484471204082239"
      ],
      "text/markdown": [
       "0.0484471204082239"
      ],
      "text/plain": [
       "[1] 0.04844712"
      ]
     },
     "metadata": {},
     "output_type": "display_data"
    },
    {
     "data": {
      "text/html": [
       "0.0268215604783382"
      ],
      "text/latex": [
       "0.0268215604783382"
      ],
      "text/markdown": [
       "0.0268215604783382"
      ],
      "text/plain": [
       "[1] 0.02682156"
      ]
     },
     "metadata": {},
     "output_type": "display_data"
    },
    {
     "data": {
      "text/html": [
       "0.023952483691934"
      ],
      "text/latex": [
       "0.023952483691934"
      ],
      "text/markdown": [
       "0.023952483691934"
      ],
      "text/plain": [
       "[1] 0.02395248"
      ]
     },
     "metadata": {},
     "output_type": "display_data"
    }
   ],
   "source": [
    "# définition de la fonction PRESS\n",
    "press=function(model) {\n",
    "h=influence(model)$hat\n",
    "e=influence(model)$wt.res\n",
    "n=length(e)\n",
    "sum((e/(1-h))^2)/n\n",
    "}\n",
    "# application aux différents modèles\n",
    "press(res1.reg)\n",
    "press(res2.reg)\n",
    "press(res3.reg)"
   ]
  },
  {
   "cell_type": "markdown",
   "metadata": {},
   "source": [
    "Le meilleur modèle de prévision est-il celui qui ajuste le mieux les données ?\n",
    "\n",
    "#Com: PRESS calculant la somme des carrés des erreurs, plus le résultat est faible, meilleur est le modèle. On remarque donc que le modèle 3, qui ajuste le mieux les données est le plus précis !\n",
    "\n",
    "## Annexe : analyse de covariance et sélection de variables\n",
    "Ce scénario se limite volontairement aux outils les plus élémentaires. D'autres modèles seraient à tester, notamment une [analyse de covariance](http://wikistat.fr/pdf/st-m-modlin-anacova.pdf) associant les variables qualitatives au modèle, la présence ou non d'interactions... pour tenter d'améliorer la qualité de prévision. C'est l'objet d'autres scénarios. Pour achever celui-ci dans la logique des outils linéaires mis en \\oe uvre, voici la construction du modèle d'[analyse de covariance](http://wikistat.fr/pdf/st-m-modlin-anacova.pdf) avec sélection de variables au sens du critère AIC pour optimiser les qualités de prévision. C'est le même type d'algorithme qui a été exécuté pour recherche le sous-modèle \"optimal\".\n",
    "\n",
    "L'algorithme de sélection descendante débute par l'estimation du modèle complet. Les interactions ne sont pas prises en compte; celles avec la pluie ne change rien, elles sont éliminées systématiquement par l'algorithme."
   ]
  },
  {
   "cell_type": "code",
   "execution_count": 49,
   "metadata": {},
   "outputs": [
    {
     "name": "stdout",
     "output_type": "stream",
     "text": [
      "Start:  AIC=-82.95\n",
      "LmaxO3 ~ T9 + T12 + T15 + Ne9 + Ne12 + Ne15 + Vx9 + Vx12 + Vx15 + \n",
      "    vent + pluie + LmaxO3v\n",
      "\n",
      "          Df Deviance     AIC\n",
      "- vent     3   2.3816 -87.438\n",
      "- Ne12     1   2.3496 -84.953\n",
      "- T9       1   2.3515 -84.865\n",
      "- T15      1   2.3540 -84.744\n",
      "- Vx12     1   2.3542 -84.735\n",
      "- Ne15     1   2.3546 -84.717\n",
      "- Vx15     1   2.3547 -84.713\n",
      "- Vx9      1   2.3547 -84.711\n",
      "- T12      1   2.3881 -83.136\n",
      "<none>         2.3496 -82.953\n",
      "- pluie    1   2.4114 -82.045\n",
      "- Ne9      1   2.4902 -78.444\n",
      "- LmaxO3v  1   2.9731 -58.593\n",
      "\n",
      "Step:  AIC=-87.44\n",
      "LmaxO3 ~ T9 + T12 + T15 + Ne9 + Ne12 + Ne15 + Vx9 + Vx12 + Vx15 + \n",
      "    pluie + LmaxO3v\n",
      "\n",
      "          Df Deviance     AIC\n",
      "- Ne12     1   2.3821 -89.418\n",
      "- Vx12     1   2.3821 -89.414\n",
      "- Ne15     1   2.3830 -89.371\n",
      "- Vx15     1   2.3831 -89.367\n",
      "- T9       1   2.3846 -89.297\n",
      "- T15      1   2.3895 -89.069\n",
      "- Vx9      1   2.3957 -88.778\n",
      "<none>         2.3816 -87.438\n",
      "- T12      1   2.4285 -87.253\n",
      "- pluie    1   2.4335 -87.022\n",
      "- Ne9      1   2.5248 -82.900\n",
      "- LmaxO3v  1   3.0563 -61.503\n",
      "\n",
      "Step:  AIC=-89.42\n",
      "LmaxO3 ~ T9 + T12 + T15 + Ne9 + Ne15 + Vx9 + Vx12 + Vx15 + pluie + \n",
      "    LmaxO3v\n",
      "\n",
      "          Df Deviance     AIC\n",
      "- Vx12     1   2.3824 -91.401\n",
      "- Ne15     1   2.3830 -91.371\n",
      "- Vx15     1   2.3838 -91.337\n",
      "- T9       1   2.3846 -91.296\n",
      "- T15      1   2.3914 -90.978\n",
      "- Vx9      1   2.3968 -90.725\n",
      "<none>         2.3821 -89.418\n",
      "- pluie    1   2.4336 -89.020\n",
      "- T12      1   2.4374 -88.844\n",
      "- Ne9      1   2.5785 -82.540\n",
      "- LmaxO3v  1   3.0595 -63.384\n",
      "\n",
      "Step:  AIC=-91.4\n",
      "LmaxO3 ~ T9 + T12 + T15 + Ne9 + Ne15 + Vx9 + Vx15 + pluie + LmaxO3v\n",
      "\n",
      "          Df Deviance     AIC\n",
      "- Ne15     1   2.3836 -93.346\n",
      "- T9       1   2.3847 -93.291\n",
      "- Vx15     1   2.3871 -93.180\n",
      "- T15      1   2.3918 -92.962\n",
      "- Vx9      1   2.4026 -92.456\n",
      "<none>         2.3824 -91.401\n",
      "- pluie    1   2.4343 -90.986\n",
      "- T12      1   2.4375 -90.838\n",
      "- Ne9      1   2.5827 -84.358\n",
      "- LmaxO3v  1   3.0607 -65.341\n",
      "\n",
      "Step:  AIC=-93.35\n",
      "LmaxO3 ~ T9 + T12 + T15 + Ne9 + Vx9 + Vx15 + pluie + LmaxO3v\n",
      "\n",
      "          Df Deviance     AIC\n",
      "- T9       1   2.3871 -95.181\n",
      "- Vx15     1   2.3892 -95.084\n",
      "- T15      1   2.4011 -94.528\n",
      "- Vx9      1   2.4030 -94.439\n",
      "<none>         2.3836 -93.346\n",
      "- pluie    1   2.4372 -92.854\n",
      "- T12      1   2.4381 -92.814\n",
      "- Ne9      1   2.6139 -85.017\n",
      "- LmaxO3v  1   3.0720 -66.927\n",
      "\n",
      "Step:  AIC=-95.18\n",
      "LmaxO3 ~ T12 + T15 + Ne9 + Vx9 + Vx15 + pluie + LmaxO3v\n",
      "\n",
      "          Df Deviance     AIC\n",
      "- Vx15     1   2.3920 -96.950\n",
      "- T15      1   2.4032 -96.429\n",
      "- Vx9      1   2.4156 -95.852\n",
      "<none>         2.3871 -95.181\n",
      "- pluie    1   2.4394 -94.753\n",
      "- T12      1   2.4418 -94.641\n",
      "- Ne9      1   2.6164 -86.910\n",
      "- LmaxO3v  1   3.0989 -67.951\n",
      "\n",
      "Step:  AIC=-96.95\n",
      "LmaxO3 ~ T12 + T15 + Ne9 + Vx9 + pluie + LmaxO3v\n",
      "\n",
      "          Df Deviance     AIC\n",
      "- T15      1   2.4074 -98.234\n",
      "<none>         2.3920 -96.950\n",
      "- pluie    1   2.4406 -96.700\n",
      "- T12      1   2.4462 -96.442\n",
      "- Vx9      1   2.4622 -95.710\n",
      "- Ne9      1   2.6694 -86.660\n",
      "- LmaxO3v  1   3.1056 -69.711\n",
      "\n",
      "Step:  AIC=-98.23\n",
      "LmaxO3 ~ T12 + Ne9 + Vx9 + pluie + LmaxO3v\n",
      "\n",
      "          Df Deviance     AIC\n",
      "<none>         2.4074 -98.234\n",
      "- pluie    1   2.4516 -98.196\n",
      "- Vx9      1   2.4863 -96.622\n",
      "- Ne9      1   2.7022 -87.296\n",
      "- T12      1   2.9782 -76.403\n",
      "- LmaxO3v  1   3.1648 -69.595\n"
     ]
    },
    {
     "data": {
      "text/html": [
       "<table>\n",
       "<caption>A anova: 6 × 6</caption>\n",
       "<thead>\n",
       "\t<tr><th></th><th scope=col>Df</th><th scope=col>Deviance</th><th scope=col>Resid. Df</th><th scope=col>Resid. Dev</th><th scope=col>F</th><th scope=col>Pr(&gt;F)</th></tr>\n",
       "\t<tr><th></th><th scope=col>&lt;int&gt;</th><th scope=col>&lt;dbl&gt;</th><th scope=col>&lt;int&gt;</th><th scope=col>&lt;dbl&gt;</th><th scope=col>&lt;dbl&gt;</th><th scope=col>&lt;dbl&gt;</th></tr>\n",
       "</thead>\n",
       "<tbody>\n",
       "\t<tr><th scope=row>NULL</th><td>NA</td><td>       NA</td><td>111</td><td>9.536849</td><td>       NA</td><td>          NA</td></tr>\n",
       "\t<tr><th scope=row>T12</th><td> 1</td><td>5.5118268</td><td>110</td><td>4.025022</td><td>242.69504</td><td>3.604133e-29</td></tr>\n",
       "\t<tr><th scope=row>Ne9</th><td> 1</td><td>0.4461249</td><td>109</td><td>3.578897</td><td> 19.64363</td><td>2.282773e-05</td></tr>\n",
       "\t<tr><th scope=row>Vx9</th><td> 1</td><td>0.2790454</td><td>108</td><td>3.299852</td><td> 12.28684</td><td>6.698192e-04</td></tr>\n",
       "\t<tr><th scope=row>pluie</th><td> 1</td><td>0.1350416</td><td>107</td><td>3.164810</td><td>  5.94611</td><td>1.641168e-02</td></tr>\n",
       "\t<tr><th scope=row>LmaxO3v</th><td> 1</td><td>0.7574533</td><td>106</td><td>2.407357</td><td> 33.35195</td><td>7.762643e-08</td></tr>\n",
       "</tbody>\n",
       "</table>\n"
      ],
      "text/latex": [
       "A anova: 6 × 6\n",
       "\\begin{tabular}{r|llllll}\n",
       "  & Df & Deviance & Resid. Df & Resid. Dev & F & Pr(>F)\\\\\n",
       "  & <int> & <dbl> & <int> & <dbl> & <dbl> & <dbl>\\\\\n",
       "\\hline\n",
       "\tNULL & NA &        NA & 111 & 9.536849 &        NA &           NA\\\\\n",
       "\tT12 &  1 & 5.5118268 & 110 & 4.025022 & 242.69504 & 3.604133e-29\\\\\n",
       "\tNe9 &  1 & 0.4461249 & 109 & 3.578897 &  19.64363 & 2.282773e-05\\\\\n",
       "\tVx9 &  1 & 0.2790454 & 108 & 3.299852 &  12.28684 & 6.698192e-04\\\\\n",
       "\tpluie &  1 & 0.1350416 & 107 & 3.164810 &   5.94611 & 1.641168e-02\\\\\n",
       "\tLmaxO3v &  1 & 0.7574533 & 106 & 2.407357 &  33.35195 & 7.762643e-08\\\\\n",
       "\\end{tabular}\n"
      ],
      "text/markdown": [
       "\n",
       "A anova: 6 × 6\n",
       "\n",
       "| <!--/--> | Df &lt;int&gt; | Deviance &lt;dbl&gt; | Resid. Df &lt;int&gt; | Resid. Dev &lt;dbl&gt; | F &lt;dbl&gt; | Pr(&gt;F) &lt;dbl&gt; |\n",
       "|---|---|---|---|---|---|---|\n",
       "| NULL | NA |        NA | 111 | 9.536849 |        NA |           NA |\n",
       "| T12 |  1 | 5.5118268 | 110 | 4.025022 | 242.69504 | 3.604133e-29 |\n",
       "| Ne9 |  1 | 0.4461249 | 109 | 3.578897 |  19.64363 | 2.282773e-05 |\n",
       "| Vx9 |  1 | 0.2790454 | 108 | 3.299852 |  12.28684 | 6.698192e-04 |\n",
       "| pluie |  1 | 0.1350416 | 107 | 3.164810 |   5.94611 | 1.641168e-02 |\n",
       "| LmaxO3v |  1 | 0.7574533 | 106 | 2.407357 |  33.35195 | 7.762643e-08 |\n",
       "\n"
      ],
      "text/plain": [
       "        Df Deviance  Resid. Df Resid. Dev F         Pr(>F)      \n",
       "NULL    NA        NA 111       9.536849          NA           NA\n",
       "T12      1 5.5118268 110       4.025022   242.69504 3.604133e-29\n",
       "Ne9      1 0.4461249 109       3.578897    19.64363 2.282773e-05\n",
       "Vx9      1 0.2790454 108       3.299852    12.28684 6.698192e-04\n",
       "pluie    1 0.1350416 107       3.164810     5.94611 1.641168e-02\n",
       "LmaxO3v  1 0.7574533 106       2.407357    33.35195 7.762643e-08"
      ]
     },
     "metadata": {},
     "output_type": "display_data"
    },
    {
     "data": {
      "image/png": "[encoded data removed]",
      "text/plain": [
       "plot without title"
      ]
     },
     "metadata": {},
     "output_type": "display_data"
    }
   ],
   "source": [
    "res.acova=glm(LmaxO3 ~ T9+T12+T15+Ne9+Ne12+Ne15+Vx9+Vx12+Vx15+vent+pluie+LmaxO3v,data=ozone)\n",
    "# Recherche du meilleur modèle au sens \n",
    "# du critère d'Akaïke par méthode descendante\n",
    "res.acova.step=step(res.acova,direction=\"backward\")\n",
    "# paramètres retenus\n",
    "anova(res.acova.step,test=\"F\")\n",
    "# Extraction des valeurs ajustées et des résidus\n",
    "fit.acova=res.acova.step$fitted.values\n",
    "resid.acova=res.acova.step$residuals\n",
    "# Graphe des résidus\n",
    "plot(fit.acova,resid.acova)"
   ]
  },
  {
   "cell_type": "code",
   "execution_count": 50,
   "metadata": {},
   "outputs": [
    {
     "data": {
      "text/plain": [
       "\n",
       "Call:\n",
       "glm(formula = LmaxO3 ~ T12 + Ne9 + Vx9 + pluie + LmaxO3v, data = ozone)\n",
       "\n",
       "Deviance Residuals: \n",
       "     Min        1Q    Median        3Q       Max  \n",
       "-0.47442  -0.09576   0.00404   0.08994   0.45643  \n",
       "\n",
       "Coefficients:\n",
       "             Estimate Std. Error t value Pr(>|t|)    \n",
       "(Intercept)  2.477832   0.243927  10.158  < 2e-16 ***\n",
       "T12          0.025451   0.005077   5.013 2.16e-06 ***\n",
       "Ne9         -0.026416   0.007332  -3.603 0.000481 ***\n",
       "Vx9          0.012443   0.006675   1.864 0.065083 .  \n",
       "pluieSec     0.048523   0.034779   1.395 0.165879    \n",
       "LmaxO3v      0.347132   0.060108   5.775 7.76e-08 ***\n",
       "---\n",
       "Signif. codes:  0 '***' 0.001 '**' 0.01 '*' 0.05 '.' 0.1 ' ' 1\n",
       "\n",
       "(Dispersion parameter for gaussian family taken to be 0.02271092)\n",
       "\n",
       "    Null deviance: 9.5368  on 111  degrees of freedom\n",
       "Residual deviance: 2.4074  on 106  degrees of freedom\n",
       "AIC: -98.234\n",
       "\n",
       "Number of Fisher Scoring iterations: 2\n"
      ]
     },
     "metadata": {},
     "output_type": "display_data"
    }
   ],
   "source": [
    "summary(res.acova.step)"
   ]
  },
  {
   "cell_type": "code",
   "execution_count": 51,
   "metadata": {},
   "outputs": [
    {
     "data": {
      "image/png": "[encoded data removed]",
      "text/plain": [
       "plot without title"
      ]
     },
     "metadata": {},
     "output_type": "display_data"
    }
   ],
   "source": [
    "plot(fit.acova,ozone$LmaxO3,pch=16,col=\"red\",,xlab=\"log(Concentration prevue)\",ylab=\"log(concentration obervee)\")\n",
    "abline(0,1,col=\"blue\", lwd=2)"
   ]
  },
  {
   "cell_type": "markdown",
   "metadata": {},
   "source": [
    "Ces résultats montrent que l'occurence de pluie est bien à prendre en compte dans le modèle. Ce modèle est comparé avec le précédent en calculant une estimation de l'erreur de prévision par [validation croisée](http://wikistat.fr/pdf/st-m-app-risque-estim.pdf)."
   ]
  },
  {
   "cell_type": "code",
   "execution_count": 1,
   "metadata": {},
   "outputs": [
    {
     "ename": "ERROR",
     "evalue": "Error in is.data.frame(data): objet 'ozone' introuvable\n",
     "output_type": "error",
     "traceback": [
      "Error in is.data.frame(data): objet 'ozone' introuvable\nTraceback:\n",
      "1. glm(LmaxO3 ~ LmaxO3v + T12 + Ne9 + Vx9, data = ozone)",
      "2. eval(mf, parent.frame())",
      "3. eval(mf, parent.frame())",
      "4. stats::model.frame(formula = LmaxO3 ~ LmaxO3v + T12 + Ne9 + Vx9, \n .     data = ozone, drop.unused.levels = TRUE)",
      "5. model.frame.default(formula = LmaxO3 ~ LmaxO3v + T12 + Ne9 + \n .     Vx9, data = ozone, drop.unused.levels = TRUE)",
      "6. is.data.frame(data)"
     ]
    }
   ],
   "source": [
    "library(boot) # chargement de la bibliothèque\n",
    "# validation croisée  10-plis\n",
    "# meilleur modèle linéaire \n",
    "res3.reg=glm(LmaxO3~LmaxO3v+T12+Ne9+Vx9,data=ozone)\n",
    "res4.reg=glm(LmaxO3~LmaxO3v+T12+Ne9+Vx9+pluie,\n",
    "   data=ozone)\n",
    "set.seed(111)\n",
    "cv.glm(ozone, res3.reg, K=10)$delta[1] \n",
    "set.seed(111)\n",
    "# modèle d'analyse de covariance\n",
    "cv.glm(ozone, res.acova.step, K=10)$delta[1] "
   ]
  },
  {
   "cell_type": "markdown",
   "metadata": {},
   "source": [
    "Même si la variable pluie est significative dans le modèle, l\"amélioration\" de la qualité de prévision n'est pas franchement significative."
   ]
  }
 ],
 "metadata": {
  "kernelspec": {
   "display_name": "R",
   "language": "R",
   "name": "ir"
  },
  "language_info": {
   "codemirror_mode": "r",
   "file_extension": ".r",
   "mimetype": "text/x-r-source",
   "name": "R",
   "pygments_lexer": "r",
   "version": "3.6.1"
  }
 },
 "nbformat": 4,
 "nbformat_minor": 1
}
